{
 "cells": [
  {
   "cell_type": "code",
   "execution_count": 1,
   "metadata": {
    "collapsed": false,
    "pycharm": {
     "name": "#%%\n"
    }
   },
   "outputs": [],
   "source": [
    "from sklearn.neural_network import MLPClassifier\n",
    "from sklearn.model_selection import train_test_split\n",
    "import matplotlib.pyplot as plt\n",
    "from sklearn import metrics\n",
    "import seaborn as sns\n",
    "import pandas as pd"
   ]
  },
  {
   "cell_type": "code",
   "execution_count": 2,
   "metadata": {
    "collapsed": false,
    "pycharm": {
     "name": "#%%\n"
    }
   },
   "outputs": [],
   "source": [
    "dataset = pd.read_csv('Data/dataset_spine_clean.csv')"
   ]
  },
  {
   "cell_type": "code",
   "execution_count": 3,
   "metadata": {
    "collapsed": false,
    "pycharm": {
     "name": "#%%\n"
    }
   },
   "outputs": [
    {
     "data": {
      "text/plain": [
       "Index(['Unnamed: 0', 'pelvic_incidence', 'pelvic tilt',\n",
       "       'lumbar_lordosis_angle', 'sacral_slope', 'pelvic_radius',\n",
       "       'degree_spondylolisthesis', 'pelvic_slop', 'Direct_tilt',\n",
       "       'thoracic_slope', 'cervical_tilt', 'sacrum_angle', 'scoliosis_slope',\n",
       "       'label', 'label_val'],\n",
       "      dtype='object')"
      ]
     },
     "execution_count": 3,
     "metadata": {},
     "output_type": "execute_result"
    }
   ],
   "source": [
    "dataset.columns"
   ]
  },
  {
   "cell_type": "markdown",
   "metadata": {
    "collapsed": false,
    "pycharm": {
     "name": "#%% md\n"
    }
   },
   "source": [
    "Building our train and test datasets"
   ]
  },
  {
   "cell_type": "code",
   "execution_count": 4,
   "metadata": {
    "collapsed": false,
    "pycharm": {
     "name": "#%%\n"
    }
   },
   "outputs": [],
   "source": [
    "X = pd.DataFrame(\n",
    "        dataset.drop(axis=1, labels=['label', 'label_val']),\n",
    "        columns=dataset.columns[:-2])"
   ]
  },
  {
   "cell_type": "code",
   "execution_count": 5,
   "metadata": {
    "collapsed": false,
    "pycharm": {
     "name": "#%%\n"
    }
   },
   "outputs": [],
   "source": [
    "y = dataset.label_val"
   ]
  },
  {
   "cell_type": "code",
   "execution_count": 6,
   "metadata": {
    "collapsed": false,
    "pycharm": {
     "name": "#%%\n"
    }
   },
   "outputs": [],
   "source": [
    "X_train, X_test, y_train, y_test = train_test_split(X,y, stratify=y, random_state=1)"
   ]
  },
  {
   "cell_type": "markdown",
   "metadata": {
    "collapsed": false,
    "pycharm": {
     "name": "#%% md\n"
    }
   },
   "source": [
    "We split our data in $\\approx 33\\%$ for validation and $\\approx 66\\%$ for training"
   ]
  },
  {
   "cell_type": "code",
   "execution_count": 7,
   "metadata": {
    "collapsed": false,
    "pycharm": {
     "name": "#%%\n"
    }
   },
   "outputs": [
    {
     "data": {
      "text/plain": [
       "0.33620689655172414"
      ]
     },
     "execution_count": 7,
     "metadata": {},
     "output_type": "execute_result"
    }
   ],
   "source": [
    "len(X_test) / len(X_train)"
   ]
  },
  {
   "cell_type": "code",
   "execution_count": 36,
   "metadata": {},
   "outputs": [],
   "source": [
    "def test_model(model):\n",
    "    plt.plot(model.loss_curve_)\n",
    "    plt.grid()\n",
    "    plt.show()\n",
    "\n",
    "    y_pred = model.predict(X_test)\n",
    "\n",
    "    confMatrix = metrics.confusion_matrix(y_test, y_pred)\n",
    "    sns.heatmap(\n",
    "        pd.DataFrame(confMatrix),\n",
    "        annot=True\n",
    "    )\n",
    "    plt.title(\"Confusion Matrix\")\n",
    "    plt.ylabel(\"Right Label\")\n",
    "    plt.xlabel(\"Predicted Label\")\n",
    "\n",
    "    return {'Score': model.score(X_test, y_test), 'Params': model.get_params()}\n",
    "    "
   ]
  },
  {
   "cell_type": "markdown",
   "metadata": {},
   "source": [
    "### Base model used for our testing"
   ]
  },
  {
   "cell_type": "markdown",
   "metadata": {
    "collapsed": false,
    "pycharm": {
     "name": "#%% md\n"
    }
   },
   "source": [
    "## First Model\n",
    "- **activation function**: relu\n",
    "- **solver for weight optimization:** Adam\n",
    "- **L2 penalty for regularization**: 0.0001\n",
    "- **Batch_size**: min(200,n_samples)\n",
    "- **hidden layers sizes**: (100,)\n",
    "- **Number of layers**: 3\n",
    "- **learning rate**: constant equal to 0.001\n",
    "- **epochs** = 30"
   ]
  },
  {
   "cell_type": "code",
   "execution_count": 79,
   "metadata": {
    "collapsed": false,
    "pycharm": {
     "name": "#%%\n"
    }
   },
   "outputs": [
    {
     "name": "stdout",
     "output_type": "stream",
     "text": [
      "Iteration 1, loss = 3.15757097\n",
      "Iteration 2, loss = 1.28529423\n",
      "Iteration 3, loss = 1.05462438\n",
      "Iteration 4, loss = 0.49655784\n",
      "Iteration 5, loss = 0.49332250\n",
      "Iteration 6, loss = 0.51035197\n",
      "Iteration 7, loss = 0.34932612\n",
      "Iteration 8, loss = 0.19186984\n",
      "Iteration 9, loss = 0.13699492\n",
      "Iteration 10, loss = 0.13840442\n",
      "Iteration 11, loss = 0.12908075\n",
      "Iteration 12, loss = 0.10141425\n",
      "Iteration 13, loss = 0.07866260\n",
      "Iteration 14, loss = 0.07066033\n",
      "Iteration 15, loss = 0.06856962\n",
      "Iteration 16, loss = 0.06867723\n",
      "Iteration 17, loss = 0.06571432\n",
      "Iteration 18, loss = 0.05955718\n",
      "Iteration 19, loss = 0.05438876\n",
      "Iteration 20, loss = 0.04970770\n",
      "Iteration 21, loss = 0.04710825\n",
      "Iteration 22, loss = 0.04507265\n",
      "Iteration 23, loss = 0.04327227\n",
      "Iteration 24, loss = 0.04166162\n",
      "Iteration 25, loss = 0.04028208\n",
      "Iteration 26, loss = 0.03886659\n",
      "Iteration 27, loss = 0.03797491\n",
      "Iteration 28, loss = 0.03641007\n",
      "Iteration 29, loss = 0.03512798\n",
      "Iteration 30, loss = 0.03482672\n"
     ]
    },
    {
     "name": "stderr",
     "output_type": "stream",
     "text": [
      "/home/gbrls/.local/lib/python3.10/site-packages/sklearn/neural_network/_multilayer_perceptron.py:692: ConvergenceWarning: Stochastic Optimizer: Maximum iterations (30) reached and the optimization hasn't converged yet.\n",
      "  warnings.warn(\n"
     ]
    },
    {
     "data": {
      "image/png": "[encoded data removed]",
      "text/plain": [
       "<Figure size 432x288 with 1 Axes>"
      ]
     },
     "metadata": {
      "needs_background": "light"
     },
     "output_type": "display_data"
    },
    {
     "data": {
      "text/plain": [
       "{'Score': 0.9871794871794872,\n",
       " 'Params': {'activation': 'relu',\n",
       "  'alpha': 0.0001,\n",
       "  'batch_size': 'auto',\n",
       "  'beta_1': 0.9,\n",
       "  'beta_2': 0.999,\n",
       "  'early_stopping': False,\n",
       "  'epsilon': 1e-08,\n",
       "  'hidden_layer_sizes': (100,),\n",
       "  'learning_rate': 'constant',\n",
       "  'learning_rate_init': 0.001,\n",
       "  'max_fun': 15000,\n",
       "  'max_iter': 30,\n",
       "  'momentum': 0.9,\n",
       "  'n_iter_no_change': 10,\n",
       "  'nesterovs_momentum': True,\n",
       "  'power_t': 0.5,\n",
       "  'random_state': 1,\n",
       "  'shuffle': True,\n",
       "  'solver': 'adam',\n",
       "  'tol': 0.0001,\n",
       "  'validation_fraction': 0.1,\n",
       "  'verbose': True,\n",
       "  'warm_start': False}}"
      ]
     },
     "execution_count": 79,
     "metadata": {},
     "output_type": "execute_result"
    },
    {
     "data": {
      "image/png": "[encoded data removed]",
      "text/plain": [
       "<Figure size 432x288 with 2 Axes>"
      ]
     },
     "metadata": {
      "needs_background": "light"
     },
     "output_type": "display_data"
    }
   ],
   "source": [
    "model1 = MLPClassifier(random_state=1, max_iter=30,verbose=True).fit(X_train, y_train)\n",
    "test_model(model1)\n"
   ]
  },
  {
   "cell_type": "markdown",
   "metadata": {},
   "source": [
    "### In the second model we experimented with the network's topology"
   ]
  },
  {
   "cell_type": "markdown",
   "metadata": {},
   "source": [
    "## Second Model\n",
    "- **activation function**: relu\n",
    "- **solver for weight optimization:** Adam\n",
    "- **L2 penalty for regularization**: 0.0001\n",
    "- **Batch_size**: min(200,n_samples)\n",
    "- **hidden layers sizes**: (12,)\n",
    "- **Number of layers**: 3\n",
    "- **learning rate**: constant equal to 0.001\n",
    "- **epochs** = 30"
   ]
  },
  {
   "cell_type": "markdown",
   "metadata": {},
   "source": [
    "### Results\n",
    "Compared to the previous model, this network performed badly, we think this is because we need larger hidden layers."
   ]
  },
  {
   "cell_type": "code",
   "execution_count": 73,
   "metadata": {},
   "outputs": [
    {
     "name": "stdout",
     "output_type": "stream",
     "text": [
      "Iteration 1, loss = 6.34931130\n",
      "Iteration 2, loss = 5.64703312\n",
      "Iteration 3, loss = 4.93211482\n",
      "Iteration 4, loss = 4.25368756\n",
      "Iteration 5, loss = 3.56801277\n",
      "Iteration 6, loss = 2.97033311\n",
      "Iteration 7, loss = 2.39296922\n",
      "Iteration 8, loss = 1.95163163\n",
      "Iteration 9, loss = 1.59617903\n",
      "Iteration 10, loss = 1.36035362\n",
      "Iteration 11, loss = 1.21027427\n",
      "Iteration 12, loss = 1.12840140\n",
      "Iteration 13, loss = 1.11055286\n",
      "Iteration 14, loss = 1.09367007\n",
      "Iteration 15, loss = 1.08191149\n",
      "Iteration 16, loss = 1.06312474\n",
      "Iteration 17, loss = 1.02999485\n",
      "Iteration 18, loss = 0.98545489\n",
      "Iteration 19, loss = 0.93620961\n",
      "Iteration 20, loss = 0.89113585\n",
      "Iteration 21, loss = 0.85048282\n",
      "Iteration 22, loss = 0.81268860\n",
      "Iteration 23, loss = 0.78159217\n",
      "Iteration 24, loss = 0.76209748\n",
      "Iteration 25, loss = 0.74126263\n",
      "Iteration 26, loss = 0.72297646\n",
      "Iteration 27, loss = 0.70724793\n",
      "Iteration 28, loss = 0.69105689\n",
      "Iteration 29, loss = 0.67397656\n",
      "Iteration 30, loss = 0.65623891\n"
     ]
    },
    {
     "name": "stderr",
     "output_type": "stream",
     "text": [
      "/home/gbrls/.local/lib/python3.10/site-packages/sklearn/neural_network/_multilayer_perceptron.py:692: ConvergenceWarning: Stochastic Optimizer: Maximum iterations (30) reached and the optimization hasn't converged yet.\n",
      "  warnings.warn(\n"
     ]
    },
    {
     "data": {
      "image/png": "[encoded data removed]",
      "text/plain": [
       "<Figure size 432x288 with 1 Axes>"
      ]
     },
     "metadata": {
      "needs_background": "light"
     },
     "output_type": "display_data"
    },
    {
     "data": {
      "text/plain": [
       "{'Score': 0.8846153846153846,\n",
       " 'Params': {'activation': 'relu',\n",
       "  'alpha': 0.0001,\n",
       "  'batch_size': 'auto',\n",
       "  'beta_1': 0.9,\n",
       "  'beta_2': 0.999,\n",
       "  'early_stopping': False,\n",
       "  'epsilon': 1e-08,\n",
       "  'hidden_layer_sizes': (12,),\n",
       "  'learning_rate': 'constant',\n",
       "  'learning_rate_init': 0.001,\n",
       "  'max_fun': 15000,\n",
       "  'max_iter': 30,\n",
       "  'momentum': 0.9,\n",
       "  'n_iter_no_change': 10,\n",
       "  'nesterovs_momentum': True,\n",
       "  'power_t': 0.5,\n",
       "  'random_state': 1,\n",
       "  'shuffle': True,\n",
       "  'solver': 'adam',\n",
       "  'tol': 0.0001,\n",
       "  'validation_fraction': 0.1,\n",
       "  'verbose': True,\n",
       "  'warm_start': False}}"
      ]
     },
     "execution_count": 73,
     "metadata": {},
     "output_type": "execute_result"
    },
    {
     "data": {
      "image/png": "[encoded data removed]",
      "text/plain": [
       "<Figure size 432x288 with 2 Axes>"
      ]
     },
     "metadata": {
      "needs_background": "light"
     },
     "output_type": "display_data"
    }
   ],
   "source": [
    "model2 = MLPClassifier(random_state=1, max_iter=30,verbose=True, hidden_layer_sizes=(12,)).fit(X_train, y_train)\n",
    "test_model(model2)"
   ]
  },
  {
   "cell_type": "markdown",
   "metadata": {},
   "source": [
    "### In this third model we added more hidden layers"
   ]
  },
  {
   "cell_type": "markdown",
   "metadata": {},
   "source": [
    "## Third Model\n",
    "- **activation function**: relu\n",
    "- **solver for weight optimization:** Adam\n",
    "- **L2 penalty for regularization**: 0.0001\n",
    "- **Batch_size**: min(200,n_samples)\n",
    "- **hidden layers sizes**: (12,5)\n",
    "- **Number of layers**: 3\n",
    "- **learning rate**: constant equal to 0.001\n",
    "- **epochs** = 30"
   ]
  },
  {
   "cell_type": "markdown",
   "metadata": {},
   "source": [
    "### Results\n",
    "It's possible to see that increasing the number of hidden layers yielded a better performance for the network. We need more epochs to fully train this network."
   ]
  },
  {
   "cell_type": "code",
   "execution_count": 82,
   "metadata": {},
   "outputs": [
    {
     "name": "stdout",
     "output_type": "stream",
     "text": [
      "Iteration 1, loss = 7.20418251\n",
      "Iteration 2, loss = 6.20968118\n",
      "Iteration 3, loss = 5.28737187\n",
      "Iteration 4, loss = 4.32572793\n",
      "Iteration 5, loss = 3.44071301\n",
      "Iteration 6, loss = 2.63013777\n",
      "Iteration 7, loss = 1.88320765\n",
      "Iteration 8, loss = 1.26358412\n",
      "Iteration 9, loss = 0.85932352\n",
      "Iteration 10, loss = 0.55480063\n",
      "Iteration 11, loss = 0.39627842\n",
      "Iteration 12, loss = 0.31062858\n",
      "Iteration 13, loss = 0.27937777\n",
      "Iteration 14, loss = 0.26245421\n",
      "Iteration 15, loss = 0.25118887\n",
      "Iteration 16, loss = 0.24585463\n",
      "Iteration 17, loss = 0.24105282\n",
      "Iteration 18, loss = 0.23719156\n",
      "Iteration 19, loss = 0.23261687\n",
      "Iteration 20, loss = 0.22731284\n",
      "Iteration 21, loss = 0.21962402\n",
      "Iteration 22, loss = 0.21209337\n",
      "Iteration 23, loss = 0.20388550\n",
      "Iteration 24, loss = 0.19640585\n",
      "Iteration 25, loss = 0.19018576\n",
      "Iteration 26, loss = 0.18541117\n",
      "Iteration 27, loss = 0.18181913\n",
      "Iteration 28, loss = 0.17829887\n",
      "Iteration 29, loss = 0.17516063\n",
      "Iteration 30, loss = 0.17261429\n"
     ]
    },
    {
     "name": "stderr",
     "output_type": "stream",
     "text": [
      "/home/gbrls/.local/lib/python3.10/site-packages/sklearn/neural_network/_multilayer_perceptron.py:692: ConvergenceWarning: Stochastic Optimizer: Maximum iterations (30) reached and the optimization hasn't converged yet.\n",
      "  warnings.warn(\n"
     ]
    },
    {
     "data": {
      "image/png": "[encoded data removed]",
      "text/plain": [
       "<Figure size 432x288 with 1 Axes>"
      ]
     },
     "metadata": {
      "needs_background": "light"
     },
     "output_type": "display_data"
    },
    {
     "data": {
      "text/plain": [
       "{'Score': 0.9230769230769231,\n",
       " 'Params': {'activation': 'relu',\n",
       "  'alpha': 0.0001,\n",
       "  'batch_size': 'auto',\n",
       "  'beta_1': 0.9,\n",
       "  'beta_2': 0.999,\n",
       "  'early_stopping': False,\n",
       "  'epsilon': 1e-08,\n",
       "  'hidden_layer_sizes': (12, 5),\n",
       "  'learning_rate': 'constant',\n",
       "  'learning_rate_init': 0.001,\n",
       "  'max_fun': 15000,\n",
       "  'max_iter': 30,\n",
       "  'momentum': 0.9,\n",
       "  'n_iter_no_change': 10,\n",
       "  'nesterovs_momentum': True,\n",
       "  'power_t': 0.5,\n",
       "  'random_state': 1,\n",
       "  'shuffle': True,\n",
       "  'solver': 'adam',\n",
       "  'tol': 0.0001,\n",
       "  'validation_fraction': 0.1,\n",
       "  'verbose': True,\n",
       "  'warm_start': False}}"
      ]
     },
     "execution_count": 82,
     "metadata": {},
     "output_type": "execute_result"
    },
    {
     "data": {
      "image/png": "[encoded data removed]",
      "text/plain": [
       "<Figure size 432x288 with 2 Axes>"
      ]
     },
     "metadata": {
      "needs_background": "light"
     },
     "output_type": "display_data"
    }
   ],
   "source": [
    "model3 = MLPClassifier(random_state=1, max_iter=30,verbose=True, hidden_layer_sizes=(12,5)).fit(X_train, y_train)\n",
    "test_model(model3)"
   ]
  },
  {
   "cell_type": "markdown",
   "metadata": {},
   "source": [
    "### In this forth model we changed the learning rate"
   ]
  },
  {
   "cell_type": "markdown",
   "metadata": {},
   "source": [
    "## Forth Model\n",
    "- **activation function**: relu\n",
    "- **solver for weight optimization:** Adam\n",
    "- **L2 penalty for regularization**: 0.0001\n",
    "- **Batch_size**: min(200,n_samples)\n",
    "- **hidden layers sizes**: (12, 5)\n",
    "- **Number of layers**: 3\n",
    "- **learning rate**: constant equal to 0.2\n",
    "- **epochs** = 30"
   ]
  },
  {
   "cell_type": "markdown",
   "metadata": {},
   "source": [
    "# Results\n",
    "It worsened the network's performance, but it converged with the same number of epochs."
   ]
  },
  {
   "cell_type": "code",
   "execution_count": 83,
   "metadata": {},
   "outputs": [
    {
     "name": "stdout",
     "output_type": "stream",
     "text": [
      "Iteration 1, loss = 8.24515873\n",
      "Iteration 2, loss = 2.23714380\n",
      "Iteration 3, loss = 0.65257649\n",
      "Iteration 4, loss = 0.65597041\n",
      "Iteration 5, loss = 0.64679352\n",
      "Iteration 6, loss = 0.63936865\n",
      "Iteration 7, loss = 0.63405240\n",
      "Iteration 8, loss = 0.63160711\n",
      "Iteration 9, loss = 0.62919697\n",
      "Iteration 10, loss = 0.63002717\n",
      "Iteration 11, loss = 0.62995855\n",
      "Iteration 12, loss = 0.63101498\n",
      "Iteration 13, loss = 0.63113521\n",
      "Iteration 14, loss = 0.63097423\n",
      "Iteration 15, loss = 0.63052368\n",
      "Iteration 16, loss = 0.63000206\n",
      "Iteration 17, loss = 0.62951394\n",
      "Iteration 18, loss = 0.62951580\n",
      "Iteration 19, loss = 0.62939936\n",
      "Iteration 20, loss = 0.62966468\n",
      "Training loss did not improve more than tol=0.000100 for 10 consecutive epochs. Stopping.\n"
     ]
    },
    {
     "data": {
      "image/png": "[encoded data removed]",
      "text/plain": [
       "<Figure size 432x288 with 1 Axes>"
      ]
     },
     "metadata": {
      "needs_background": "light"
     },
     "output_type": "display_data"
    },
    {
     "data": {
      "text/plain": [
       "{'Score': 0.6794871794871795,\n",
       " 'Params': {'activation': 'relu',\n",
       "  'alpha': 0.0001,\n",
       "  'batch_size': 'auto',\n",
       "  'beta_1': 0.9,\n",
       "  'beta_2': 0.999,\n",
       "  'early_stopping': False,\n",
       "  'epsilon': 1e-08,\n",
       "  'hidden_layer_sizes': (12, 5),\n",
       "  'learning_rate': 'constant',\n",
       "  'learning_rate_init': 0.2,\n",
       "  'max_fun': 15000,\n",
       "  'max_iter': 30,\n",
       "  'momentum': 0.9,\n",
       "  'n_iter_no_change': 10,\n",
       "  'nesterovs_momentum': True,\n",
       "  'power_t': 0.5,\n",
       "  'random_state': 1,\n",
       "  'shuffle': True,\n",
       "  'solver': 'adam',\n",
       "  'tol': 0.0001,\n",
       "  'validation_fraction': 0.1,\n",
       "  'verbose': True,\n",
       "  'warm_start': False}}"
      ]
     },
     "execution_count": 83,
     "metadata": {},
     "output_type": "execute_result"
    },
    {
     "data": {
      "image/png": "[encoded data removed]",
      "text/plain": [
       "<Figure size 432x288 with 2 Axes>"
      ]
     },
     "metadata": {
      "needs_background": "light"
     },
     "output_type": "display_data"
    }
   ],
   "source": [
    "model4 = MLPClassifier(random_state=1, max_iter=30,verbose=True, hidden_layer_sizes=(12,5), learning_rate_init=0.2).fit(X_train, y_train)\n",
    "test_model(model4)"
   ]
  },
  {
   "cell_type": "markdown",
   "metadata": {},
   "source": [
    "### Here we increased the number of epohcs to fully train this network"
   ]
  },
  {
   "cell_type": "markdown",
   "metadata": {},
   "source": [
    "## Fifth Model\n",
    "- **activation function**: relu\n",
    "- **solver for weight optimization:** Adam\n",
    "- **L2 penalty for regularization**: 0.0001\n",
    "- **Batch_size**: min(200,n_samples)\n",
    "- **hidden layers sizes**: (200,)\n",
    "- **Number of layers**: 3\n",
    "- **learning rate**: constant equal to 0.001\n",
    "- **epochs** = 300"
   ]
  },
  {
   "cell_type": "markdown",
   "metadata": {},
   "source": [
    "### Results\n",
    "The training eventually converged and it shows a good loss."
   ]
  },
  {
   "cell_type": "code",
   "execution_count": 85,
   "metadata": {},
   "outputs": [
    {
     "name": "stdout",
     "output_type": "stream",
     "text": [
      "Iteration 1, loss = 7.20418251\n",
      "Iteration 2, loss = 6.20968118\n",
      "Iteration 3, loss = 5.28737187\n",
      "Iteration 4, loss = 4.32572793\n",
      "Iteration 5, loss = 3.44071301\n",
      "Iteration 6, loss = 2.63013777\n",
      "Iteration 7, loss = 1.88320765\n",
      "Iteration 8, loss = 1.26358412\n",
      "Iteration 9, loss = 0.85932352\n",
      "Iteration 10, loss = 0.55480063\n",
      "Iteration 11, loss = 0.39627842\n",
      "Iteration 12, loss = 0.31062858\n",
      "Iteration 13, loss = 0.27937777\n",
      "Iteration 14, loss = 0.26245421\n",
      "Iteration 15, loss = 0.25118887\n",
      "Iteration 16, loss = 0.24585463\n",
      "Iteration 17, loss = 0.24105282\n",
      "Iteration 18, loss = 0.23719156\n",
      "Iteration 19, loss = 0.23261687\n",
      "Iteration 20, loss = 0.22731284\n",
      "Iteration 21, loss = 0.21962402\n",
      "Iteration 22, loss = 0.21209337\n",
      "Iteration 23, loss = 0.20388550\n",
      "Iteration 24, loss = 0.19640585\n",
      "Iteration 25, loss = 0.19018576\n",
      "Iteration 26, loss = 0.18541117\n",
      "Iteration 27, loss = 0.18181913\n",
      "Iteration 28, loss = 0.17829887\n",
      "Iteration 29, loss = 0.17516063\n",
      "Iteration 30, loss = 0.17261429\n",
      "Iteration 31, loss = 0.17089726\n",
      "Iteration 32, loss = 0.16870658\n",
      "Iteration 33, loss = 0.16744354\n",
      "Iteration 34, loss = 0.16590079\n",
      "Iteration 35, loss = 0.16410556\n",
      "Iteration 36, loss = 0.16212771\n",
      "Iteration 37, loss = 0.15996486\n",
      "Iteration 38, loss = 0.15782963\n",
      "Iteration 39, loss = 0.15562240\n",
      "Iteration 40, loss = 0.15364200\n",
      "Iteration 41, loss = 0.15169509\n",
      "Iteration 42, loss = 0.14934791\n",
      "Iteration 43, loss = 0.14694680\n",
      "Iteration 44, loss = 0.14513772\n",
      "Iteration 45, loss = 0.14401525\n",
      "Iteration 46, loss = 0.14252961\n",
      "Iteration 47, loss = 0.14034755\n",
      "Iteration 48, loss = 0.13859955\n",
      "Iteration 49, loss = 0.13780938\n",
      "Iteration 50, loss = 0.13593835\n",
      "Iteration 51, loss = 0.13380277\n",
      "Iteration 52, loss = 0.13218728\n",
      "Iteration 53, loss = 0.13044557\n",
      "Iteration 54, loss = 0.12897998\n",
      "Iteration 55, loss = 0.12703131\n",
      "Iteration 56, loss = 0.12564205\n",
      "Iteration 57, loss = 0.12460769\n",
      "Iteration 58, loss = 0.12358122\n",
      "Iteration 59, loss = 0.12231584\n",
      "Iteration 60, loss = 0.12084252\n",
      "Iteration 61, loss = 0.11931256\n",
      "Iteration 62, loss = 0.11745938\n",
      "Iteration 63, loss = 0.11545711\n",
      "Iteration 64, loss = 0.11408181\n",
      "Iteration 65, loss = 0.11282957\n",
      "Iteration 66, loss = 0.11172812\n",
      "Iteration 67, loss = 0.11006617\n",
      "Iteration 68, loss = 0.10835195\n",
      "Iteration 69, loss = 0.10676026\n",
      "Iteration 70, loss = 0.10589411\n",
      "Iteration 71, loss = 0.10430610\n",
      "Iteration 72, loss = 0.10291398\n",
      "Iteration 73, loss = 0.10141559\n",
      "Iteration 74, loss = 0.09977790\n",
      "Iteration 75, loss = 0.09856847\n",
      "Iteration 76, loss = 0.09712292\n",
      "Iteration 77, loss = 0.09586830\n",
      "Iteration 78, loss = 0.09412664\n",
      "Iteration 79, loss = 0.09266876\n",
      "Iteration 80, loss = 0.09095606\n",
      "Iteration 81, loss = 0.08971307\n",
      "Iteration 82, loss = 0.08827302\n",
      "Iteration 83, loss = 0.08709659\n",
      "Iteration 84, loss = 0.08571054\n",
      "Iteration 85, loss = 0.08426633\n",
      "Iteration 86, loss = 0.08342551\n",
      "Iteration 87, loss = 0.08219309\n",
      "Iteration 88, loss = 0.08117117\n",
      "Iteration 89, loss = 0.08005542\n",
      "Iteration 90, loss = 0.07913012\n",
      "Iteration 91, loss = 0.07829398\n",
      "Iteration 92, loss = 0.07728084\n",
      "Iteration 93, loss = 0.07632949\n",
      "Iteration 94, loss = 0.07528728\n",
      "Iteration 95, loss = 0.07441384\n",
      "Iteration 96, loss = 0.07357194\n",
      "Iteration 97, loss = 0.07269218\n",
      "Iteration 98, loss = 0.07189808\n",
      "Iteration 99, loss = 0.07121982\n",
      "Iteration 100, loss = 0.07060558\n",
      "Iteration 101, loss = 0.06979400\n",
      "Iteration 102, loss = 0.06923902\n",
      "Iteration 103, loss = 0.06837590\n",
      "Iteration 104, loss = 0.06770653\n",
      "Iteration 105, loss = 0.06703976\n",
      "Iteration 106, loss = 0.06648031\n",
      "Iteration 107, loss = 0.06571112\n",
      "Iteration 108, loss = 0.06514944\n",
      "Iteration 109, loss = 0.06498981\n",
      "Iteration 110, loss = 0.06462880\n",
      "Iteration 111, loss = 0.06381653\n",
      "Iteration 112, loss = 0.06289856\n",
      "Iteration 113, loss = 0.06238803\n",
      "Iteration 114, loss = 0.06195513\n",
      "Iteration 115, loss = 0.06155016\n",
      "Iteration 116, loss = 0.06145846\n",
      "Iteration 117, loss = 0.06079929\n",
      "Iteration 118, loss = 0.06026105\n",
      "Iteration 119, loss = 0.05951600\n",
      "Iteration 120, loss = 0.05904373\n",
      "Iteration 121, loss = 0.05882124\n",
      "Iteration 122, loss = 0.05854250\n",
      "Iteration 123, loss = 0.05804315\n",
      "Iteration 124, loss = 0.05872156\n",
      "Iteration 125, loss = 0.05913091\n",
      "Iteration 126, loss = 0.05985044\n",
      "Iteration 127, loss = 0.06038822\n",
      "Iteration 128, loss = 0.06028911\n",
      "Iteration 129, loss = 0.05892976\n",
      "Iteration 130, loss = 0.05647272\n",
      "Iteration 131, loss = 0.05503465\n",
      "Iteration 132, loss = 0.05367713\n",
      "Iteration 133, loss = 0.05268486\n",
      "Iteration 134, loss = 0.05219308\n",
      "Iteration 135, loss = 0.05187640\n",
      "Iteration 136, loss = 0.05183361\n",
      "Iteration 137, loss = 0.05179905\n",
      "Iteration 138, loss = 0.05159911\n",
      "Iteration 139, loss = 0.05118422\n",
      "Iteration 140, loss = 0.05067232\n",
      "Iteration 141, loss = 0.04994676\n",
      "Iteration 142, loss = 0.04897729\n",
      "Iteration 143, loss = 0.04804704\n",
      "Iteration 144, loss = 0.04733383\n",
      "Iteration 145, loss = 0.04661468\n",
      "Iteration 146, loss = 0.04646487\n",
      "Iteration 147, loss = 0.04595358\n",
      "Iteration 148, loss = 0.04567065\n",
      "Iteration 149, loss = 0.04535391\n",
      "Iteration 150, loss = 0.04493864\n",
      "Iteration 151, loss = 0.04441502\n",
      "Iteration 152, loss = 0.04412102\n",
      "Iteration 153, loss = 0.04470180\n",
      "Iteration 154, loss = 0.04478039\n",
      "Iteration 155, loss = 0.04476600\n",
      "Iteration 156, loss = 0.04409240\n",
      "Iteration 157, loss = 0.04292665\n",
      "Iteration 158, loss = 0.04220673\n",
      "Iteration 159, loss = 0.04088636\n",
      "Iteration 160, loss = 0.04014136\n",
      "Iteration 161, loss = 0.03961545\n",
      "Iteration 162, loss = 0.03893037\n",
      "Iteration 163, loss = 0.03853238\n",
      "Iteration 164, loss = 0.03791426\n",
      "Iteration 165, loss = 0.03711365\n",
      "Iteration 166, loss = 0.03712380\n",
      "Iteration 167, loss = 0.03644886\n",
      "Iteration 168, loss = 0.03634462\n",
      "Iteration 169, loss = 0.03630974\n",
      "Iteration 170, loss = 0.03638388\n",
      "Iteration 171, loss = 0.03577176\n",
      "Iteration 172, loss = 0.03503141\n",
      "Iteration 173, loss = 0.03440892\n",
      "Iteration 174, loss = 0.03408419\n",
      "Iteration 175, loss = 0.03367683\n",
      "Iteration 176, loss = 0.03333960\n",
      "Iteration 177, loss = 0.03303905\n",
      "Iteration 178, loss = 0.03264475\n",
      "Iteration 179, loss = 0.03241255\n",
      "Iteration 180, loss = 0.03215623\n",
      "Iteration 181, loss = 0.03190746\n",
      "Iteration 182, loss = 0.03160361\n",
      "Iteration 183, loss = 0.03185141\n",
      "Iteration 184, loss = 0.03149118\n",
      "Iteration 185, loss = 0.03092664\n",
      "Iteration 186, loss = 0.03028736\n",
      "Iteration 187, loss = 0.03009820\n",
      "Iteration 188, loss = 0.02945991\n",
      "Iteration 189, loss = 0.02973837\n",
      "Iteration 190, loss = 0.02930055\n",
      "Iteration 191, loss = 0.02828984\n",
      "Iteration 192, loss = 0.02669164\n",
      "Iteration 193, loss = 0.02497596\n",
      "Iteration 194, loss = 0.02371938\n",
      "Iteration 195, loss = 0.02306957\n",
      "Iteration 196, loss = 0.02272594\n",
      "Iteration 197, loss = 0.02235370\n",
      "Iteration 198, loss = 0.02213219\n",
      "Iteration 199, loss = 0.02181897\n",
      "Iteration 200, loss = 0.02138548\n",
      "Iteration 201, loss = 0.02101887\n",
      "Iteration 202, loss = 0.02060576\n",
      "Iteration 203, loss = 0.02013359\n",
      "Iteration 204, loss = 0.01995081\n",
      "Iteration 205, loss = 0.01991394\n",
      "Iteration 206, loss = 0.01897503\n",
      "Iteration 207, loss = 0.01824274\n",
      "Iteration 208, loss = 0.01861346\n",
      "Iteration 209, loss = 0.01888161\n",
      "Iteration 210, loss = 0.01900137\n",
      "Iteration 211, loss = 0.01897959\n",
      "Iteration 212, loss = 0.01889898\n",
      "Iteration 213, loss = 0.01877438\n",
      "Iteration 214, loss = 0.01800325\n",
      "Iteration 215, loss = 0.01760934\n",
      "Iteration 216, loss = 0.01653014\n",
      "Iteration 217, loss = 0.01629898\n",
      "Iteration 218, loss = 0.01646789\n",
      "Iteration 219, loss = 0.01678105\n",
      "Iteration 220, loss = 0.01692241\n",
      "Iteration 221, loss = 0.01649605\n",
      "Iteration 222, loss = 0.01630532\n",
      "Iteration 223, loss = 0.01595441\n",
      "Iteration 224, loss = 0.01553055\n",
      "Iteration 225, loss = 0.01511989\n",
      "Iteration 226, loss = 0.01490428\n",
      "Iteration 227, loss = 0.01494108\n",
      "Iteration 228, loss = 0.01488252\n",
      "Iteration 229, loss = 0.01477659\n",
      "Iteration 230, loss = 0.01468287\n",
      "Iteration 231, loss = 0.01455740\n",
      "Iteration 232, loss = 0.01445839\n",
      "Iteration 233, loss = 0.01443222\n",
      "Iteration 234, loss = 0.01416852\n",
      "Iteration 235, loss = 0.01433308\n",
      "Iteration 236, loss = 0.01399923\n",
      "Iteration 237, loss = 0.01388782\n",
      "Iteration 238, loss = 0.01380567\n",
      "Iteration 239, loss = 0.01372914\n",
      "Iteration 240, loss = 0.01363686\n",
      "Iteration 241, loss = 0.01354952\n",
      "Iteration 242, loss = 0.01347051\n",
      "Iteration 243, loss = 0.01340225\n",
      "Iteration 244, loss = 0.01333929\n",
      "Iteration 245, loss = 0.01341301\n",
      "Iteration 246, loss = 0.01335905\n",
      "Iteration 247, loss = 0.01327573\n",
      "Iteration 248, loss = 0.01313006\n",
      "Iteration 249, loss = 0.01308491\n",
      "Iteration 250, loss = 0.01303081\n",
      "Iteration 251, loss = 0.01295201\n",
      "Iteration 252, loss = 0.01286558\n",
      "Iteration 253, loss = 0.01280551\n",
      "Iteration 254, loss = 0.01275240\n",
      "Iteration 255, loss = 0.01272243\n",
      "Iteration 256, loss = 0.01270287\n",
      "Iteration 257, loss = 0.01267494\n",
      "Iteration 258, loss = 0.01265597\n",
      "Iteration 259, loss = 0.01263904\n",
      "Training loss did not improve more than tol=0.000100 for 10 consecutive epochs. Stopping.\n"
     ]
    },
    {
     "data": {
      "image/png": "[encoded data removed]",
      "text/plain": [
       "<Figure size 432x288 with 1 Axes>"
      ]
     },
     "metadata": {
      "needs_background": "light"
     },
     "output_type": "display_data"
    },
    {
     "data": {
      "text/plain": [
       "{'Score': 0.9871794871794872,\n",
       " 'Params': {'activation': 'relu',\n",
       "  'alpha': 0.0001,\n",
       "  'batch_size': 'auto',\n",
       "  'beta_1': 0.9,\n",
       "  'beta_2': 0.999,\n",
       "  'early_stopping': False,\n",
       "  'epsilon': 1e-08,\n",
       "  'hidden_layer_sizes': (12, 5),\n",
       "  'learning_rate': 'constant',\n",
       "  'learning_rate_init': 0.001,\n",
       "  'max_fun': 15000,\n",
       "  'max_iter': 300,\n",
       "  'momentum': 0.9,\n",
       "  'n_iter_no_change': 10,\n",
       "  'nesterovs_momentum': True,\n",
       "  'power_t': 0.5,\n",
       "  'random_state': 1,\n",
       "  'shuffle': True,\n",
       "  'solver': 'adam',\n",
       "  'tol': 0.0001,\n",
       "  'validation_fraction': 0.1,\n",
       "  'verbose': True,\n",
       "  'warm_start': False}}"
      ]
     },
     "execution_count": 85,
     "metadata": {},
     "output_type": "execute_result"
    },
    {
     "data": {
      "image/png": "[encoded data removed]",
      "text/plain": [
       "<Figure size 432x288 with 2 Axes>"
      ]
     },
     "metadata": {
      "needs_background": "light"
     },
     "output_type": "display_data"
    }
   ],
   "source": [
    "model5 = MLPClassifier(random_state=1, max_iter=300,verbose=True, hidden_layer_sizes=(12,5)).fit(X_train, y_train)\n",
    "test_model(model5)"
   ]
  },
  {
   "cell_type": "markdown",
   "metadata": {},
   "source": [
    "### In this model we increased the size of each hidden layers, but set the number of hidden layers back to the default value, and we changed the solver."
   ]
  },
  {
   "cell_type": "markdown",
   "metadata": {},
   "source": [
    "## Sixth Model\n",
    "- **activation function**: relu\n",
    "- **solver for weight optimization:** sgd\n",
    "- **L2 penalty for regularization**: 0.0001\n",
    "- **Batch_size**: min(200,n_samples)\n",
    "- **hidden layers sizes**: (200,)\n",
    "- **Number of layers**: 3\n",
    "- **learning rate**: constant equal to 0.001\n",
    "- **epochs** = 300"
   ]
  },
  {
   "cell_type": "markdown",
   "metadata": {},
   "source": [
    "# Results\n",
    "It showed a good loss with less epochs needed for training than the previous models with more hidden layers."
   ]
  },
  {
   "cell_type": "code",
   "execution_count": 86,
   "metadata": {},
   "outputs": [
    {
     "name": "stdout",
     "output_type": "stream",
     "text": [
      "Iteration 1, loss = 8.19954150\n",
      "Iteration 2, loss = 0.17928285\n",
      "Iteration 3, loss = 0.48331912\n",
      "Iteration 4, loss = 0.07094937\n",
      "Iteration 5, loss = 0.08551008\n",
      "Iteration 6, loss = 0.08982902\n",
      "Iteration 7, loss = 0.07956817\n",
      "Iteration 8, loss = 0.09273040\n",
      "Iteration 9, loss = 0.08992711\n",
      "Iteration 10, loss = 0.10576764\n",
      "Iteration 11, loss = 0.10139265\n",
      "Iteration 12, loss = 0.14406034\n",
      "Iteration 13, loss = 0.18219396\n",
      "Iteration 14, loss = 0.07429198\n",
      "Iteration 15, loss = 0.13765269\n",
      "Training loss did not improve more than tol=0.000100 for 10 consecutive epochs. Stopping.\n"
     ]
    },
    {
     "data": {
      "image/png": "[encoded data removed]",
      "text/plain": [
       "<Figure size 432x288 with 1 Axes>"
      ]
     },
     "metadata": {
      "needs_background": "light"
     },
     "output_type": "display_data"
    },
    {
     "data": {
      "text/plain": [
       "{'Score': 0.9871794871794872,\n",
       " 'Params': {'activation': 'relu',\n",
       "  'alpha': 0.0001,\n",
       "  'batch_size': 'auto',\n",
       "  'beta_1': 0.9,\n",
       "  'beta_2': 0.999,\n",
       "  'early_stopping': False,\n",
       "  'epsilon': 1e-08,\n",
       "  'hidden_layer_sizes': (200,),\n",
       "  'learning_rate': 'constant',\n",
       "  'learning_rate_init': 0.001,\n",
       "  'max_fun': 15000,\n",
       "  'max_iter': 300,\n",
       "  'momentum': 0.9,\n",
       "  'n_iter_no_change': 10,\n",
       "  'nesterovs_momentum': True,\n",
       "  'power_t': 0.5,\n",
       "  'random_state': 1,\n",
       "  'shuffle': True,\n",
       "  'solver': 'sgd',\n",
       "  'tol': 0.0001,\n",
       "  'validation_fraction': 0.1,\n",
       "  'verbose': True,\n",
       "  'warm_start': False}}"
      ]
     },
     "execution_count": 86,
     "metadata": {},
     "output_type": "execute_result"
    },
    {
     "data": {
      "image/png": "[encoded data removed]",
      "text/plain": [
       "<Figure size 432x288 with 2 Axes>"
      ]
     },
     "metadata": {
      "needs_background": "light"
     },
     "output_type": "display_data"
    }
   ],
   "source": [
    "model6 = MLPClassifier(random_state=1, max_iter=300,verbose=True, hidden_layer_sizes=(200,), solver='sgd').fit(X_train, y_train)\n",
    "test_model(model6)"
   ]
  }
 ],
 "metadata": {
  "kernelspec": {
   "display_name": "Python 3",
   "language": "python",
   "name": "python3"
  },
  "language_info": {
   "codemirror_mode": {
    "name": "ipython",
    "version": 3
   },
   "file_extension": ".py",
   "mimetype": "text/x-python",
   "name": "python",
   "nbconvert_exporter": "python",
   "pygments_lexer": "ipython3",
   "version": "3.10.4"
  }
 },
 "nbformat": 4,
 "nbformat_minor": 0
}
