{
 "cells": [
  {
   "cell_type": "code",
   "execution_count": 1,
   "metadata": {
    "collapsed": false,
    "jupyter": {
     "outputs_hidden": false
    },
    "pycharm": {
     "name": "#%%\n"
    }
   },
   "outputs": [],
   "source": [
    "from sklearn.neural_network import MLPClassifier\n",
    "from sklearn.model_selection import train_test_split\n",
    "import matplotlib.pyplot as plt\n",
    "from sklearn import metrics\n",
    "from sklearn.preprocessing import StandardScaler\n",
    "import seaborn as sns\n",
    "import pandas as pd"
   ]
  },
  {
   "cell_type": "code",
   "execution_count": 2,
   "metadata": {
    "collapsed": false,
    "jupyter": {
     "outputs_hidden": false
    },
    "pycharm": {
     "name": "#%%\n"
    }
   },
   "outputs": [],
   "source": [
    "dataset = pd.read_csv('Data/dataset_spine_clean.csv')"
   ]
  },
  {
   "cell_type": "code",
   "execution_count": 3,
   "metadata": {
    "collapsed": false,
    "jupyter": {
     "outputs_hidden": false
    },
    "pycharm": {
     "name": "#%%\n"
    }
   },
   "outputs": [
    {
     "data": {
      "text/plain": [
       "Index(['Unnamed: 0', 'pelvic_incidence', 'pelvic tilt',\n",
       "       'lumbar_lordosis_angle', 'sacral_slope', 'pelvic_radius',\n",
       "       'degree_spondylolisthesis', 'pelvic_slop', 'Direct_tilt',\n",
       "       'thoracic_slope', 'cervical_tilt', 'sacrum_angle', 'scoliosis_slope',\n",
       "       'label', 'label_val'],\n",
       "      dtype='object')"
      ]
     },
     "execution_count": 3,
     "metadata": {},
     "output_type": "execute_result"
    }
   ],
   "source": [
    "dataset.columns"
   ]
  },
  {
   "cell_type": "markdown",
   "metadata": {
    "pycharm": {
     "name": "#%% md\n"
    }
   },
   "source": [
    "Building our train and test datasets"
   ]
  },
  {
   "cell_type": "code",
   "execution_count": 4,
   "metadata": {
    "collapsed": false,
    "jupyter": {
     "outputs_hidden": false
    },
    "pycharm": {
     "name": "#%%\n"
    }
   },
   "outputs": [],
   "source": [
    "X = pd.DataFrame(\n",
    "        dataset.drop(axis=1, labels=['label', 'label_val']),\n",
    "        columns=dataset.columns[:-2])"
   ]
  },
  {
   "cell_type": "markdown",
   "metadata": {},
   "source": [
    "We will just normalize teh datas(the distance between the max and min will be closer)."
   ]
  },
  {
   "cell_type": "code",
   "execution_count": 5,
   "metadata": {},
   "outputs": [],
   "source": [
    "scaler_model = StandardScaler()\n",
    "X = scaler_model.fit_transform(X)"
   ]
  },
  {
   "cell_type": "code",
   "execution_count": 6,
   "metadata": {
    "collapsed": false,
    "jupyter": {
     "outputs_hidden": false
    },
    "pycharm": {
     "name": "#%%\n"
    }
   },
   "outputs": [],
   "source": [
    "y = dataset.label_val"
   ]
  },
  {
   "cell_type": "code",
   "execution_count": 7,
   "metadata": {},
   "outputs": [
    {
     "data": {
      "text/plain": [
       "array([[-1.72647253,  0.14708636,  0.50136873, ...,  1.1671291 ,\n",
       "        -1.19658726,  1.71236843],\n",
       "       [-1.71529795, -1.24586434, -0.74876898, ...,  1.67955123,\n",
       "        -0.94032533, -0.91394145],\n",
       "       [-1.70412337,  0.4843695 ,  0.46793218, ...,  1.63596949,\n",
       "        -1.22717809, -0.61568643],\n",
       "       ...,\n",
       "       [ 1.70412337,  0.05520137,  0.51561812, ..., -1.05158278,\n",
       "         1.44337397, -0.69303204],\n",
       "       [ 1.71529795, -0.88582307, -0.88565951, ..., -0.75264852,\n",
       "         1.62384854,  0.77376463],\n",
       "       [ 1.72647253, -1.54892681, -1.24785954, ...,  0.62174631,\n",
       "         1.29742294,  1.43371339]])"
      ]
     },
     "execution_count": 7,
     "metadata": {},
     "output_type": "execute_result"
    }
   ],
   "source": [
    "X"
   ]
  },
  {
   "cell_type": "code",
   "execution_count": 8,
   "metadata": {},
   "outputs": [
    {
     "data": {
      "text/plain": [
       "0      0\n",
       "1      0\n",
       "2      0\n",
       "3      0\n",
       "4      0\n",
       "      ..\n",
       "305    1\n",
       "306    1\n",
       "307    1\n",
       "308    1\n",
       "309    1\n",
       "Name: label_val, Length: 310, dtype: int64"
      ]
     },
     "execution_count": 8,
     "metadata": {},
     "output_type": "execute_result"
    }
   ],
   "source": [
    "y"
   ]
  },
  {
   "cell_type": "code",
   "execution_count": 9,
   "metadata": {
    "collapsed": false,
    "jupyter": {
     "outputs_hidden": false
    },
    "pycharm": {
     "name": "#%%\n"
    }
   },
   "outputs": [],
   "source": [
    "X_train, X_test, y_train, y_test = train_test_split(X,y, stratify=y, random_state=1)"
   ]
  },
  {
   "cell_type": "markdown",
   "metadata": {
    "pycharm": {
     "name": "#%% md\n"
    }
   },
   "source": [
    "We split our data in $\\approx 33\\%$ for validation and $\\approx 66\\%$ for training"
   ]
  },
  {
   "cell_type": "code",
   "execution_count": 11,
   "metadata": {
    "collapsed": false,
    "jupyter": {
     "outputs_hidden": false
    },
    "pycharm": {
     "name": "#%%\n"
    }
   },
   "outputs": [
    {
     "data": {
      "text/plain": [
       "0.33620689655172414"
      ]
     },
     "execution_count": 11,
     "metadata": {},
     "output_type": "execute_result"
    }
   ],
   "source": [
    "len(X_test) / len(X_train)"
   ]
  },
  {
   "cell_type": "code",
   "execution_count": 12,
   "metadata": {},
   "outputs": [],
   "source": [
    "def test_model(model):\n",
    "    plt.plot(model.loss_curve_)\n",
    "    plt.grid()\n",
    "    plt.show()\n",
    "\n",
    "    y_pred = model.predict(X_test)\n",
    "\n",
    "    confMatrix = metrics.confusion_matrix(y_test, y_pred)\n",
    "    sns.heatmap(\n",
    "        pd.DataFrame(confMatrix),\n",
    "        annot=True\n",
    "    )\n",
    "    plt.title(\"Confusion Matrix\")\n",
    "    plt.ylabel(\"Right Label\")\n",
    "    plt.xlabel(\"Predicted Label\")\n",
    "\n",
    "    return {'Score': model.score(X_test, y_test), 'Params': model.get_params()}\n",
    "    "
   ]
  },
  {
   "cell_type": "markdown",
   "metadata": {},
   "source": [
    "### Base model used for our testing"
   ]
  },
  {
   "cell_type": "markdown",
   "metadata": {
    "pycharm": {
     "name": "#%% md\n"
    }
   },
   "source": [
    "## First Model\n",
    "- **activation function**: relu\n",
    "- **solver for weight optimization:** Adam\n",
    "- **L2 penalty for regularization**: 0.0001\n",
    "- **Batch_size**: min(200,n_samples)\n",
    "- **hidden layers sizes**: (100,)\n",
    "- **Number of layers**: 3\n",
    "- **learning rate**: constant equal to 0.001\n",
    "- **epochs** = 30"
   ]
  },
  {
   "cell_type": "code",
   "execution_count": 15,
   "metadata": {
    "collapsed": false,
    "jupyter": {
     "outputs_hidden": false
    },
    "pycharm": {
     "name": "#%%\n"
    }
   },
   "outputs": [
    {
     "name": "stdout",
     "output_type": "stream",
     "text": [
      "Iteration 1, loss = 0.66948101\n",
      "Iteration 2, loss = 0.64190427\n",
      "Iteration 3, loss = 0.61753712\n",
      "Iteration 4, loss = 0.59538034\n",
      "Iteration 5, loss = 0.57339928\n",
      "Iteration 6, loss = 0.55447653\n",
      "Iteration 7, loss = 0.53591970\n",
      "Iteration 8, loss = 0.51835896\n",
      "Iteration 9, loss = 0.50182801\n",
      "Iteration 10, loss = 0.48608296\n",
      "Iteration 11, loss = 0.47146935\n",
      "Iteration 12, loss = 0.45698212\n",
      "Iteration 13, loss = 0.44381612\n",
      "Iteration 14, loss = 0.43082306\n",
      "Iteration 15, loss = 0.41903731\n",
      "Iteration 16, loss = 0.40720678\n",
      "Iteration 17, loss = 0.39642175\n",
      "Iteration 18, loss = 0.38582711\n",
      "Iteration 19, loss = 0.37588385\n",
      "Iteration 20, loss = 0.36615945\n",
      "Iteration 21, loss = 0.35677694\n",
      "Iteration 22, loss = 0.34766995\n",
      "Iteration 23, loss = 0.33893558\n",
      "Iteration 24, loss = 0.33029588\n",
      "Iteration 25, loss = 0.32217752\n",
      "Iteration 26, loss = 0.31412514\n",
      "Iteration 27, loss = 0.30644973\n",
      "Iteration 28, loss = 0.29890606\n",
      "Iteration 29, loss = 0.29160264\n",
      "Iteration 30, loss = 0.28463290\n"
     ]
    },
    {
     "name": "stderr",
     "output_type": "stream",
     "text": [
      "/home/kennedy/anaconda3/lib/python3.8/site-packages/sklearn/neural_network/_multilayer_perceptron.py:692: ConvergenceWarning: Stochastic Optimizer: Maximum iterations (30) reached and the optimization hasn't converged yet.\n",
      "  warnings.warn(\n"
     ]
    },
    {
     "data": {
      "image/png": "[encoded data removed]",
      "text/plain": [
       "<Figure size 432x288 with 1 Axes>"
      ]
     },
     "metadata": {
      "needs_background": "light"
     },
     "output_type": "display_data"
    },
    {
     "data": {
      "image/png": "[encoded data removed]",
      "text/plain": [
       "<Figure size 432x288 with 2 Axes>"
      ]
     },
     "metadata": {
      "needs_background": "light"
     },
     "output_type": "display_data"
    }
   ],
   "source": [
    "model1 = MLPClassifier(random_state=1, max_iter=30,verbose=True).fit(X_train, y_train);\n",
    "test_model(model1);\n"
   ]
  },
  {
   "cell_type": "markdown",
   "metadata": {},
   "source": [
    "### In the second model we experimented with the network's topology"
   ]
  },
  {
   "cell_type": "markdown",
   "metadata": {},
   "source": [
    "## Second Model\n",
    "- **activation function**: relu\n",
    "- **solver for weight optimization:** Adam\n",
    "- **L2 penalty for regularization**: 0.0001\n",
    "- **Batch_size**: min(200,n_samples)\n",
    "- **hidden layers sizes**: (12,)\n",
    "- **Number of layers**: 3\n",
    "- **learning rate**: constant equal to 0.001\n",
    "- **epochs** = 30"
   ]
  },
  {
   "cell_type": "markdown",
   "metadata": {},
   "source": [
    "### Results\n",
    "Compared to the previous model, this network performed badly, we think this is because we need larger hidden layers."
   ]
  },
  {
   "cell_type": "code",
   "execution_count": 16,
   "metadata": {},
   "outputs": [
    {
     "name": "stdout",
     "output_type": "stream",
     "text": [
      "Iteration 1, loss = 0.86858826\n",
      "Iteration 2, loss = 0.85876636\n",
      "Iteration 3, loss = 0.84958203\n",
      "Iteration 4, loss = 0.84055642\n",
      "Iteration 5, loss = 0.83173766\n",
      "Iteration 6, loss = 0.82303281\n",
      "Iteration 7, loss = 0.81453613\n",
      "Iteration 8, loss = 0.80604291\n",
      "Iteration 9, loss = 0.79770331\n",
      "Iteration 10, loss = 0.78926980\n",
      "Iteration 11, loss = 0.78120291\n",
      "Iteration 12, loss = 0.77318161\n",
      "Iteration 13, loss = 0.76514196\n",
      "Iteration 14, loss = 0.75749735\n",
      "Iteration 15, loss = 0.74981087\n",
      "Iteration 16, loss = 0.74229121\n",
      "Iteration 17, loss = 0.73515155\n",
      "Iteration 18, loss = 0.72774351\n",
      "Iteration 19, loss = 0.72072797\n",
      "Iteration 20, loss = 0.71396979\n",
      "Iteration 21, loss = 0.70733183\n",
      "Iteration 22, loss = 0.70060557\n",
      "Iteration 23, loss = 0.69413534\n",
      "Iteration 24, loss = 0.68784025\n",
      "Iteration 25, loss = 0.68160629\n",
      "Iteration 26, loss = 0.67553105\n",
      "Iteration 27, loss = 0.66968236\n",
      "Iteration 28, loss = 0.66373070\n",
      "Iteration 29, loss = 0.65827864\n",
      "Iteration 30, loss = 0.65259720\n"
     ]
    },
    {
     "name": "stderr",
     "output_type": "stream",
     "text": [
      "/home/kennedy/anaconda3/lib/python3.8/site-packages/sklearn/neural_network/_multilayer_perceptron.py:692: ConvergenceWarning: Stochastic Optimizer: Maximum iterations (30) reached and the optimization hasn't converged yet.\n",
      "  warnings.warn(\n"
     ]
    },
    {
     "data": {
      "image/png": "[encoded data removed]",
      "text/plain": [
       "<Figure size 432x288 with 1 Axes>"
      ]
     },
     "metadata": {
      "needs_background": "light"
     },
     "output_type": "display_data"
    },
    {
     "data": {
      "text/plain": [
       "{'Score': 0.717948717948718,\n",
       " 'Params': {'activation': 'relu',\n",
       "  'alpha': 0.0001,\n",
       "  'batch_size': 'auto',\n",
       "  'beta_1': 0.9,\n",
       "  'beta_2': 0.999,\n",
       "  'early_stopping': False,\n",
       "  'epsilon': 1e-08,\n",
       "  'hidden_layer_sizes': (12,),\n",
       "  'learning_rate': 'constant',\n",
       "  'learning_rate_init': 0.001,\n",
       "  'max_fun': 15000,\n",
       "  'max_iter': 30,\n",
       "  'momentum': 0.9,\n",
       "  'n_iter_no_change': 10,\n",
       "  'nesterovs_momentum': True,\n",
       "  'power_t': 0.5,\n",
       "  'random_state': 1,\n",
       "  'shuffle': True,\n",
       "  'solver': 'adam',\n",
       "  'tol': 0.0001,\n",
       "  'validation_fraction': 0.1,\n",
       "  'verbose': True,\n",
       "  'warm_start': False}}"
      ]
     },
     "execution_count": 16,
     "metadata": {},
     "output_type": "execute_result"
    },
    {
     "data": {
      "image/png": "[encoded data removed]",
      "text/plain": [
       "<Figure size 432x288 with 2 Axes>"
      ]
     },
     "metadata": {
      "needs_background": "light"
     },
     "output_type": "display_data"
    }
   ],
   "source": [
    "model2 = MLPClassifier(random_state=1, max_iter=30,verbose=True, hidden_layer_sizes=(12,)).fit(X_train, y_train)\n",
    "test_model(model2)"
   ]
  },
  {
   "cell_type": "markdown",
   "metadata": {},
   "source": [
    "### In this third model we added more hidden layers"
   ]
  },
  {
   "cell_type": "markdown",
   "metadata": {},
   "source": [
    "## Third Model\n",
    "- **activation function**: relu\n",
    "- **solver for weight optimization:** Adam\n",
    "- **L2 penalty for regularization**: 0.0001\n",
    "- **Batch_size**: min(200,n_samples)\n",
    "- **hidden layers sizes**: (12,5)\n",
    "- **Number of layers**: 3\n",
    "- **learning rate**: constant equal to 0.001\n",
    "- **epochs** = 30"
   ]
  },
  {
   "cell_type": "markdown",
   "metadata": {},
   "source": [
    "### Results\n",
    "It's possible to see that increasing the number of hidden layers yielded a better performance for the network. We need more epochs to fully train this network."
   ]
  },
  {
   "cell_type": "code",
   "execution_count": 17,
   "metadata": {},
   "outputs": [
    {
     "name": "stdout",
     "output_type": "stream",
     "text": [
      "Iteration 1, loss = 0.71181871\n",
      "Iteration 2, loss = 0.70556478\n",
      "Iteration 3, loss = 0.69939268\n",
      "Iteration 4, loss = 0.69360702\n",
      "Iteration 5, loss = 0.68789370\n",
      "Iteration 6, loss = 0.68222716\n",
      "Iteration 7, loss = 0.67671314\n",
      "Iteration 8, loss = 0.67138036\n",
      "Iteration 9, loss = 0.66602259\n",
      "Iteration 10, loss = 0.66103830\n",
      "Iteration 11, loss = 0.65595054\n",
      "Iteration 12, loss = 0.65136803\n",
      "Iteration 13, loss = 0.64677282\n",
      "Iteration 14, loss = 0.64232002\n",
      "Iteration 15, loss = 0.63813410\n",
      "Iteration 16, loss = 0.63377892\n",
      "Iteration 17, loss = 0.62974796\n",
      "Iteration 18, loss = 0.62556260\n",
      "Iteration 19, loss = 0.62161911\n",
      "Iteration 20, loss = 0.61760240\n",
      "Iteration 21, loss = 0.61369013\n",
      "Iteration 22, loss = 0.60972274\n",
      "Iteration 23, loss = 0.60589645\n",
      "Iteration 24, loss = 0.60210690\n",
      "Iteration 25, loss = 0.59842995\n",
      "Iteration 26, loss = 0.59471552\n",
      "Iteration 27, loss = 0.59109961\n",
      "Iteration 28, loss = 0.58780387\n",
      "Iteration 29, loss = 0.58433043\n",
      "Iteration 30, loss = 0.58080460\n"
     ]
    },
    {
     "name": "stderr",
     "output_type": "stream",
     "text": [
      "/home/kennedy/anaconda3/lib/python3.8/site-packages/sklearn/neural_network/_multilayer_perceptron.py:692: ConvergenceWarning: Stochastic Optimizer: Maximum iterations (30) reached and the optimization hasn't converged yet.\n",
      "  warnings.warn(\n"
     ]
    },
    {
     "data": {
      "image/png": "[encoded data removed]",
      "text/plain": [
       "<Figure size 432x288 with 1 Axes>"
      ]
     },
     "metadata": {
      "needs_background": "light"
     },
     "output_type": "display_data"
    },
    {
     "data": {
      "text/plain": [
       "{'Score': 0.7692307692307693,\n",
       " 'Params': {'activation': 'relu',\n",
       "  'alpha': 0.0001,\n",
       "  'batch_size': 'auto',\n",
       "  'beta_1': 0.9,\n",
       "  'beta_2': 0.999,\n",
       "  'early_stopping': False,\n",
       "  'epsilon': 1e-08,\n",
       "  'hidden_layer_sizes': (12, 5),\n",
       "  'learning_rate': 'constant',\n",
       "  'learning_rate_init': 0.001,\n",
       "  'max_fun': 15000,\n",
       "  'max_iter': 30,\n",
       "  'momentum': 0.9,\n",
       "  'n_iter_no_change': 10,\n",
       "  'nesterovs_momentum': True,\n",
       "  'power_t': 0.5,\n",
       "  'random_state': 1,\n",
       "  'shuffle': True,\n",
       "  'solver': 'adam',\n",
       "  'tol': 0.0001,\n",
       "  'validation_fraction': 0.1,\n",
       "  'verbose': True,\n",
       "  'warm_start': False}}"
      ]
     },
     "execution_count": 17,
     "metadata": {},
     "output_type": "execute_result"
    },
    {
     "data": {
      "image/png": "[encoded data removed]",
      "text/plain": [
       "<Figure size 432x288 with 2 Axes>"
      ]
     },
     "metadata": {
      "needs_background": "light"
     },
     "output_type": "display_data"
    }
   ],
   "source": [
    "model3 = MLPClassifier(random_state=1, max_iter=30,verbose=True, hidden_layer_sizes=(12,5)).fit(X_train, y_train)\n",
    "test_model(model3)"
   ]
  },
  {
   "cell_type": "markdown",
   "metadata": {},
   "source": [
    "### In this forth model we changed the learning rate"
   ]
  },
  {
   "cell_type": "markdown",
   "metadata": {},
   "source": [
    "## Forth Model\n",
    "- **activation function**: relu\n",
    "- **solver for weight optimization:** Adam\n",
    "- **L2 penalty for regularization**: 0.0001\n",
    "- **Batch_size**: min(200,n_samples)\n",
    "- **hidden layers sizes**: (12, 5)\n",
    "- **Number of layers**: 3\n",
    "- **learning rate**: constant equal to 0.2\n",
    "- **epochs** = 30"
   ]
  },
  {
   "cell_type": "markdown",
   "metadata": {},
   "source": [
    "# Results\n",
    "It worsened the network's performance, but it converged with the same number of epochs."
   ]
  },
  {
   "cell_type": "code",
   "execution_count": 18,
   "metadata": {},
   "outputs": [
    {
     "name": "stdout",
     "output_type": "stream",
     "text": [
      "Iteration 1, loss = 0.67978368\n",
      "Iteration 2, loss = 0.46614603\n",
      "Iteration 3, loss = 0.31249650\n",
      "Iteration 4, loss = 0.23728022\n",
      "Iteration 5, loss = 0.18403190\n",
      "Iteration 6, loss = 0.14487155\n",
      "Iteration 7, loss = 0.11371276\n",
      "Iteration 8, loss = 0.09114434\n",
      "Iteration 9, loss = 0.11091166\n",
      "Iteration 10, loss = 0.06060637\n",
      "Iteration 11, loss = 0.06640201\n",
      "Iteration 12, loss = 0.06114752\n",
      "Iteration 13, loss = 0.05744175\n",
      "Iteration 14, loss = 0.05076985\n",
      "Iteration 15, loss = 0.04536542\n",
      "Iteration 16, loss = 0.04628813\n",
      "Iteration 17, loss = 0.04485890\n",
      "Iteration 18, loss = 0.04339973\n",
      "Iteration 19, loss = 0.02622218\n",
      "Iteration 20, loss = 0.03657807\n",
      "Iteration 21, loss = 0.04060129\n",
      "Iteration 22, loss = 0.04323584\n",
      "Iteration 23, loss = 0.04277592\n",
      "Iteration 24, loss = 0.04131103\n",
      "Iteration 25, loss = 0.04054351\n",
      "Iteration 26, loss = 0.04026381\n",
      "Iteration 27, loss = 0.04019924\n",
      "Iteration 28, loss = 0.04018942\n",
      "Iteration 29, loss = 0.04021893\n",
      "Iteration 30, loss = 0.04020329\n",
      "Training loss did not improve more than tol=0.000100 for 10 consecutive epochs. Stopping.\n"
     ]
    },
    {
     "data": {
      "image/png": "[encoded data removed]",
      "text/plain": [
       "<Figure size 432x288 with 1 Axes>"
      ]
     },
     "metadata": {
      "needs_background": "light"
     },
     "output_type": "display_data"
    },
    {
     "data": {
      "text/plain": [
       "{'Score': 0.9871794871794872,\n",
       " 'Params': {'activation': 'relu',\n",
       "  'alpha': 0.0001,\n",
       "  'batch_size': 'auto',\n",
       "  'beta_1': 0.9,\n",
       "  'beta_2': 0.999,\n",
       "  'early_stopping': False,\n",
       "  'epsilon': 1e-08,\n",
       "  'hidden_layer_sizes': (12, 5),\n",
       "  'learning_rate': 'constant',\n",
       "  'learning_rate_init': 0.2,\n",
       "  'max_fun': 15000,\n",
       "  'max_iter': 30,\n",
       "  'momentum': 0.9,\n",
       "  'n_iter_no_change': 10,\n",
       "  'nesterovs_momentum': True,\n",
       "  'power_t': 0.5,\n",
       "  'random_state': 1,\n",
       "  'shuffle': True,\n",
       "  'solver': 'adam',\n",
       "  'tol': 0.0001,\n",
       "  'validation_fraction': 0.1,\n",
       "  'verbose': True,\n",
       "  'warm_start': False}}"
      ]
     },
     "execution_count": 18,
     "metadata": {},
     "output_type": "execute_result"
    },
    {
     "data": {
      "image/png": "[encoded data removed]",
      "text/plain": [
       "<Figure size 432x288 with 2 Axes>"
      ]
     },
     "metadata": {
      "needs_background": "light"
     },
     "output_type": "display_data"
    }
   ],
   "source": [
    "model4 = MLPClassifier(random_state=1, max_iter=30,verbose=True, hidden_layer_sizes=(12,5), learning_rate_init=0.2).fit(X_train, y_train)\n",
    "test_model(model4)"
   ]
  },
  {
   "cell_type": "markdown",
   "metadata": {},
   "source": [
    "### Here we increased the number of epohcs to fully train this network"
   ]
  },
  {
   "cell_type": "markdown",
   "metadata": {},
   "source": [
    "## Fifth Model\n",
    "- **activation function**: relu\n",
    "- **solver for weight optimization:** Adam\n",
    "- **L2 penalty for regularization**: 0.0001\n",
    "- **Batch_size**: min(200,n_samples)\n",
    "- **hidden layers sizes**: (200,)\n",
    "- **Number of layers**: 3\n",
    "- **learning rate**: constant equal to 0.001\n",
    "- **epochs** = 300"
   ]
  },
  {
   "cell_type": "markdown",
   "metadata": {},
   "source": [
    "### Results\n",
    "The training eventually converged and it shows a good loss."
   ]
  },
  {
   "cell_type": "code",
   "execution_count": 19,
   "metadata": {},
   "outputs": [
    {
     "name": "stdout",
     "output_type": "stream",
     "text": [
      "Iteration 1, loss = 0.71181871\n",
      "Iteration 2, loss = 0.70556478\n",
      "Iteration 3, loss = 0.69939268\n",
      "Iteration 4, loss = 0.69360702\n",
      "Iteration 5, loss = 0.68789370\n",
      "Iteration 6, loss = 0.68222716\n",
      "Iteration 7, loss = 0.67671314\n",
      "Iteration 8, loss = 0.67138036\n",
      "Iteration 9, loss = 0.66602259\n",
      "Iteration 10, loss = 0.66103830\n",
      "Iteration 11, loss = 0.65595054\n",
      "Iteration 12, loss = 0.65136803\n",
      "Iteration 13, loss = 0.64677282\n",
      "Iteration 14, loss = 0.64232002\n",
      "Iteration 15, loss = 0.63813410\n",
      "Iteration 16, loss = 0.63377892\n",
      "Iteration 17, loss = 0.62974796\n",
      "Iteration 18, loss = 0.62556260\n",
      "Iteration 19, loss = 0.62161911\n",
      "Iteration 20, loss = 0.61760240\n",
      "Iteration 21, loss = 0.61369013\n",
      "Iteration 22, loss = 0.60972274\n",
      "Iteration 23, loss = 0.60589645\n",
      "Iteration 24, loss = 0.60210690\n",
      "Iteration 25, loss = 0.59842995\n",
      "Iteration 26, loss = 0.59471552\n",
      "Iteration 27, loss = 0.59109961\n",
      "Iteration 28, loss = 0.58780387\n",
      "Iteration 29, loss = 0.58433043\n",
      "Iteration 30, loss = 0.58080460\n",
      "Iteration 31, loss = 0.57745284\n",
      "Iteration 32, loss = 0.57414915\n",
      "Iteration 33, loss = 0.57063065\n",
      "Iteration 34, loss = 0.56727901\n",
      "Iteration 35, loss = 0.56398554\n",
      "Iteration 36, loss = 0.56067007\n",
      "Iteration 37, loss = 0.55736326\n",
      "Iteration 38, loss = 0.55425668\n",
      "Iteration 39, loss = 0.55105976\n",
      "Iteration 40, loss = 0.54782054\n",
      "Iteration 41, loss = 0.54476714\n",
      "Iteration 42, loss = 0.54159675\n",
      "Iteration 43, loss = 0.53853952\n",
      "Iteration 44, loss = 0.53546750\n",
      "Iteration 45, loss = 0.53243396\n",
      "Iteration 46, loss = 0.52935891\n",
      "Iteration 47, loss = 0.52643928\n",
      "Iteration 48, loss = 0.52341422\n",
      "Iteration 49, loss = 0.52048886\n",
      "Iteration 50, loss = 0.51757271\n",
      "Iteration 51, loss = 0.51457579\n",
      "Iteration 52, loss = 0.51164657\n",
      "Iteration 53, loss = 0.50863943\n",
      "Iteration 54, loss = 0.50569065\n",
      "Iteration 55, loss = 0.50278613\n",
      "Iteration 56, loss = 0.49994688\n",
      "Iteration 57, loss = 0.49715139\n",
      "Iteration 58, loss = 0.49440933\n",
      "Iteration 59, loss = 0.49163848\n",
      "Iteration 60, loss = 0.48887418\n",
      "Iteration 61, loss = 0.48620783\n",
      "Iteration 62, loss = 0.48344751\n",
      "Iteration 63, loss = 0.48072996\n",
      "Iteration 64, loss = 0.47810914\n",
      "Iteration 65, loss = 0.47545792\n",
      "Iteration 66, loss = 0.47286252\n",
      "Iteration 67, loss = 0.47034390\n",
      "Iteration 68, loss = 0.46771425\n",
      "Iteration 69, loss = 0.46524998\n",
      "Iteration 70, loss = 0.46269697\n",
      "Iteration 71, loss = 0.46011786\n",
      "Iteration 72, loss = 0.45752907\n",
      "Iteration 73, loss = 0.45498047\n",
      "Iteration 74, loss = 0.45240881\n",
      "Iteration 75, loss = 0.44987520\n",
      "Iteration 76, loss = 0.44744360\n",
      "Iteration 77, loss = 0.44484877\n",
      "Iteration 78, loss = 0.44230576\n",
      "Iteration 79, loss = 0.43983066\n",
      "Iteration 80, loss = 0.43719355\n",
      "Iteration 81, loss = 0.43466971\n",
      "Iteration 82, loss = 0.43208489\n",
      "Iteration 83, loss = 0.42958258\n",
      "Iteration 84, loss = 0.42701663\n",
      "Iteration 85, loss = 0.42450415\n",
      "Iteration 86, loss = 0.42193928\n",
      "Iteration 87, loss = 0.41942151\n",
      "Iteration 88, loss = 0.41689460\n",
      "Iteration 89, loss = 0.41434596\n",
      "Iteration 90, loss = 0.41169223\n",
      "Iteration 91, loss = 0.40897777\n",
      "Iteration 92, loss = 0.40621948\n",
      "Iteration 93, loss = 0.40342408\n",
      "Iteration 94, loss = 0.40067395\n",
      "Iteration 95, loss = 0.39775518\n",
      "Iteration 96, loss = 0.39487275\n",
      "Iteration 97, loss = 0.39182759\n",
      "Iteration 98, loss = 0.38891254\n",
      "Iteration 99, loss = 0.38585741\n",
      "Iteration 100, loss = 0.38285953\n",
      "Iteration 101, loss = 0.37980372\n",
      "Iteration 102, loss = 0.37682775\n",
      "Iteration 103, loss = 0.37370960\n",
      "Iteration 104, loss = 0.37065566\n",
      "Iteration 105, loss = 0.36757799\n",
      "Iteration 106, loss = 0.36450996\n",
      "Iteration 107, loss = 0.36140728\n",
      "Iteration 108, loss = 0.35827988\n",
      "Iteration 109, loss = 0.35526918\n",
      "Iteration 110, loss = 0.35220088\n",
      "Iteration 111, loss = 0.34913870\n",
      "Iteration 112, loss = 0.34613070\n",
      "Iteration 113, loss = 0.34307890\n",
      "Iteration 114, loss = 0.34000710\n",
      "Iteration 115, loss = 0.33697432\n",
      "Iteration 116, loss = 0.33392448\n",
      "Iteration 117, loss = 0.33085616\n",
      "Iteration 118, loss = 0.32775202\n",
      "Iteration 119, loss = 0.32464900\n",
      "Iteration 120, loss = 0.32155073\n",
      "Iteration 121, loss = 0.31835244\n",
      "Iteration 122, loss = 0.31520133\n",
      "Iteration 123, loss = 0.31196476\n",
      "Iteration 124, loss = 0.30874719\n",
      "Iteration 125, loss = 0.30558815\n",
      "Iteration 126, loss = 0.30234951\n",
      "Iteration 127, loss = 0.29918302\n",
      "Iteration 128, loss = 0.29597363\n",
      "Iteration 129, loss = 0.29280775\n",
      "Iteration 130, loss = 0.28960143\n",
      "Iteration 131, loss = 0.28649107\n",
      "Iteration 132, loss = 0.28320320\n",
      "Iteration 133, loss = 0.28008736\n",
      "Iteration 134, loss = 0.27687537\n",
      "Iteration 135, loss = 0.27375077\n",
      "Iteration 136, loss = 0.27060715\n",
      "Iteration 137, loss = 0.26743142\n",
      "Iteration 138, loss = 0.26431010\n",
      "Iteration 139, loss = 0.26129027\n",
      "Iteration 140, loss = 0.25816348\n",
      "Iteration 141, loss = 0.25505324\n",
      "Iteration 142, loss = 0.25191288\n",
      "Iteration 143, loss = 0.24888599\n",
      "Iteration 144, loss = 0.24576445\n",
      "Iteration 145, loss = 0.24266797\n",
      "Iteration 146, loss = 0.23962500\n",
      "Iteration 147, loss = 0.23656816\n",
      "Iteration 148, loss = 0.23356546\n",
      "Iteration 149, loss = 0.23054052\n",
      "Iteration 150, loss = 0.22760497\n",
      "Iteration 151, loss = 0.22463436\n",
      "Iteration 152, loss = 0.22167450\n",
      "Iteration 153, loss = 0.21881420\n",
      "Iteration 154, loss = 0.21591346\n",
      "Iteration 155, loss = 0.21301612\n",
      "Iteration 156, loss = 0.21024485\n",
      "Iteration 157, loss = 0.20740099\n",
      "Iteration 158, loss = 0.20460605\n",
      "Iteration 159, loss = 0.20183938\n",
      "Iteration 160, loss = 0.19899472\n",
      "Iteration 161, loss = 0.19619821\n",
      "Iteration 162, loss = 0.19340093\n",
      "Iteration 163, loss = 0.19054272\n",
      "Iteration 164, loss = 0.18778850\n",
      "Iteration 165, loss = 0.18505346\n",
      "Iteration 166, loss = 0.18228237\n",
      "Iteration 167, loss = 0.17952483\n",
      "Iteration 168, loss = 0.17696770\n",
      "Iteration 169, loss = 0.17431051\n",
      "Iteration 170, loss = 0.17171824\n",
      "Iteration 171, loss = 0.16913272\n",
      "Iteration 172, loss = 0.16662708\n",
      "Iteration 173, loss = 0.16399399\n",
      "Iteration 174, loss = 0.16160712\n",
      "Iteration 175, loss = 0.15925758\n",
      "Iteration 176, loss = 0.15674036\n",
      "Iteration 177, loss = 0.15438838\n",
      "Iteration 178, loss = 0.15199167\n",
      "Iteration 179, loss = 0.14969650\n",
      "Iteration 180, loss = 0.14739957\n",
      "Iteration 181, loss = 0.14518078\n",
      "Iteration 182, loss = 0.14285127\n",
      "Iteration 183, loss = 0.14069680\n",
      "Iteration 184, loss = 0.13858372\n",
      "Iteration 185, loss = 0.13639717\n",
      "Iteration 186, loss = 0.13432250\n",
      "Iteration 187, loss = 0.13224674\n",
      "Iteration 188, loss = 0.13020025\n",
      "Iteration 189, loss = 0.12816784\n",
      "Iteration 190, loss = 0.12625817\n",
      "Iteration 191, loss = 0.12425741\n",
      "Iteration 192, loss = 0.12231648\n",
      "Iteration 193, loss = 0.12040472\n",
      "Iteration 194, loss = 0.11854620\n",
      "Iteration 195, loss = 0.11666901\n",
      "Iteration 196, loss = 0.11490005\n",
      "Iteration 197, loss = 0.11306518\n",
      "Iteration 198, loss = 0.11133252\n",
      "Iteration 199, loss = 0.10969408\n",
      "Iteration 200, loss = 0.10798629\n",
      "Iteration 201, loss = 0.10641815\n",
      "Iteration 202, loss = 0.10483441\n",
      "Iteration 203, loss = 0.10332344\n",
      "Iteration 204, loss = 0.10183059\n",
      "Iteration 205, loss = 0.10041258\n",
      "Iteration 206, loss = 0.09899484\n",
      "Iteration 207, loss = 0.09762605\n",
      "Iteration 208, loss = 0.09625796\n",
      "Iteration 209, loss = 0.09494793\n",
      "Iteration 210, loss = 0.09363603\n",
      "Iteration 211, loss = 0.09235963\n",
      "Iteration 212, loss = 0.09116359\n",
      "Iteration 213, loss = 0.08991309\n",
      "Iteration 214, loss = 0.08871834\n",
      "Iteration 215, loss = 0.08756072\n",
      "Iteration 216, loss = 0.08636780\n",
      "Iteration 217, loss = 0.08516323\n",
      "Iteration 218, loss = 0.08405852\n",
      "Iteration 219, loss = 0.08291285\n",
      "Iteration 220, loss = 0.08181637\n",
      "Iteration 221, loss = 0.08070544\n",
      "Iteration 222, loss = 0.07952963\n",
      "Iteration 223, loss = 0.07834216\n",
      "Iteration 224, loss = 0.07713278\n",
      "Iteration 225, loss = 0.07605285\n",
      "Iteration 226, loss = 0.07492749\n",
      "Iteration 227, loss = 0.07385420\n",
      "Iteration 228, loss = 0.07275846\n",
      "Iteration 229, loss = 0.07156711\n",
      "Iteration 230, loss = 0.07037075\n",
      "Iteration 231, loss = 0.06914914\n",
      "Iteration 232, loss = 0.06796116\n",
      "Iteration 233, loss = 0.06646530\n",
      "Iteration 234, loss = 0.06538466\n",
      "Iteration 235, loss = 0.06405842\n",
      "Iteration 236, loss = 0.06268583\n",
      "Iteration 237, loss = 0.06176174\n",
      "Iteration 238, loss = 0.06064302\n",
      "Iteration 239, loss = 0.05963350\n",
      "Iteration 240, loss = 0.05856455\n",
      "Iteration 241, loss = 0.05772927\n",
      "Iteration 242, loss = 0.05680652\n",
      "Iteration 243, loss = 0.05593244\n",
      "Iteration 244, loss = 0.05508444\n",
      "Iteration 245, loss = 0.05422942\n",
      "Iteration 246, loss = 0.05340484\n",
      "Iteration 247, loss = 0.05259591\n",
      "Iteration 248, loss = 0.05185542\n",
      "Iteration 249, loss = 0.05107276\n",
      "Iteration 250, loss = 0.05036452\n",
      "Iteration 251, loss = 0.04966817\n",
      "Iteration 252, loss = 0.04899322\n",
      "Iteration 253, loss = 0.04830962\n",
      "Iteration 254, loss = 0.04761271\n",
      "Iteration 255, loss = 0.04695424\n",
      "Iteration 256, loss = 0.04630720\n",
      "Iteration 257, loss = 0.04568668\n",
      "Iteration 258, loss = 0.04507502\n",
      "Iteration 259, loss = 0.04449192\n",
      "Iteration 260, loss = 0.04389293\n",
      "Iteration 261, loss = 0.04329164\n",
      "Iteration 262, loss = 0.04275113\n",
      "Iteration 263, loss = 0.04219550\n",
      "Iteration 264, loss = 0.04166132\n",
      "Iteration 265, loss = 0.04114873\n",
      "Iteration 266, loss = 0.04062786\n",
      "Iteration 267, loss = 0.04012082\n",
      "Iteration 268, loss = 0.03961940\n",
      "Iteration 269, loss = 0.03912212\n",
      "Iteration 270, loss = 0.03866180\n",
      "Iteration 271, loss = 0.03816386\n",
      "Iteration 272, loss = 0.03773281\n",
      "Iteration 273, loss = 0.03727260\n",
      "Iteration 274, loss = 0.03681092\n",
      "Iteration 275, loss = 0.03640681\n",
      "Iteration 276, loss = 0.03595404\n",
      "Iteration 277, loss = 0.03551881\n",
      "Iteration 278, loss = 0.03510051\n",
      "Iteration 279, loss = 0.03466907\n",
      "Iteration 280, loss = 0.03423701\n",
      "Iteration 281, loss = 0.03382676\n",
      "Iteration 282, loss = 0.03342577\n",
      "Iteration 283, loss = 0.03303558\n",
      "Iteration 284, loss = 0.03266000\n",
      "Iteration 285, loss = 0.03232121\n",
      "Iteration 286, loss = 0.03194879\n",
      "Iteration 287, loss = 0.03160668\n",
      "Iteration 288, loss = 0.03124280\n",
      "Iteration 289, loss = 0.03087921\n",
      "Iteration 290, loss = 0.03053287\n",
      "Iteration 291, loss = 0.03018457\n",
      "Iteration 292, loss = 0.02984524\n",
      "Iteration 293, loss = 0.02951868\n",
      "Iteration 294, loss = 0.02919517\n",
      "Iteration 295, loss = 0.02888478\n",
      "Iteration 296, loss = 0.02857897\n",
      "Iteration 297, loss = 0.02827911\n",
      "Iteration 298, loss = 0.02799094\n",
      "Iteration 299, loss = 0.02770451\n",
      "Iteration 300, loss = 0.02742191\n"
     ]
    },
    {
     "name": "stderr",
     "output_type": "stream",
     "text": [
      "/home/kennedy/anaconda3/lib/python3.8/site-packages/sklearn/neural_network/_multilayer_perceptron.py:692: ConvergenceWarning: Stochastic Optimizer: Maximum iterations (300) reached and the optimization hasn't converged yet.\n",
      "  warnings.warn(\n"
     ]
    },
    {
     "data": {
      "image/png": "[encoded data removed]",
      "text/plain": [
       "<Figure size 432x288 with 1 Axes>"
      ]
     },
     "metadata": {
      "needs_background": "light"
     },
     "output_type": "display_data"
    },
    {
     "data": {
      "text/plain": [
       "{'Score': 0.9871794871794872,\n",
       " 'Params': {'activation': 'relu',\n",
       "  'alpha': 0.0001,\n",
       "  'batch_size': 'auto',\n",
       "  'beta_1': 0.9,\n",
       "  'beta_2': 0.999,\n",
       "  'early_stopping': False,\n",
       "  'epsilon': 1e-08,\n",
       "  'hidden_layer_sizes': (12, 5),\n",
       "  'learning_rate': 'constant',\n",
       "  'learning_rate_init': 0.001,\n",
       "  'max_fun': 15000,\n",
       "  'max_iter': 300,\n",
       "  'momentum': 0.9,\n",
       "  'n_iter_no_change': 10,\n",
       "  'nesterovs_momentum': True,\n",
       "  'power_t': 0.5,\n",
       "  'random_state': 1,\n",
       "  'shuffle': True,\n",
       "  'solver': 'adam',\n",
       "  'tol': 0.0001,\n",
       "  'validation_fraction': 0.1,\n",
       "  'verbose': True,\n",
       "  'warm_start': False}}"
      ]
     },
     "execution_count": 19,
     "metadata": {},
     "output_type": "execute_result"
    },
    {
     "data": {
      "image/png": "[encoded data removed]",
      "text/plain": [
       "<Figure size 432x288 with 2 Axes>"
      ]
     },
     "metadata": {
      "needs_background": "light"
     },
     "output_type": "display_data"
    }
   ],
   "source": [
    "model5 = MLPClassifier(random_state=1, max_iter=300,verbose=True, hidden_layer_sizes=(12,5)).fit(X_train, y_train)\n",
    "test_model(model5)"
   ]
  },
  {
   "cell_type": "markdown",
   "metadata": {},
   "source": [
    "### In this model we increased the size of each hidden layers, but set the number of hidden layers back to the default value, and we changed the solver."
   ]
  },
  {
   "cell_type": "markdown",
   "metadata": {},
   "source": [
    "## Sixth Model\n",
    "- **activation function**: relu\n",
    "- **solver for weight optimization:** sgd\n",
    "- **L2 penalty for regularization**: 0.0001\n",
    "- **Batch_size**: min(200,n_samples)\n",
    "- **hidden layers sizes**: (200,)\n",
    "- **Number of layers**: 3\n",
    "- **learning rate**: constant equal to 0.001\n",
    "- **epochs** = 300"
   ]
  },
  {
   "cell_type": "markdown",
   "metadata": {},
   "source": [
    "# Results\n",
    "It showed a good loss with less epochs needed for training than the previous models with more hidden layers."
   ]
  },
  {
   "cell_type": "code",
   "execution_count": 20,
   "metadata": {},
   "outputs": [
    {
     "name": "stdout",
     "output_type": "stream",
     "text": [
      "Iteration 1, loss = 0.64193366\n",
      "Iteration 2, loss = 0.63955513\n",
      "Iteration 3, loss = 0.63584276\n",
      "Iteration 4, loss = 0.63106629\n",
      "Iteration 5, loss = 0.62549539\n",
      "Iteration 6, loss = 0.61927137\n",
      "Iteration 7, loss = 0.61253918\n",
      "Iteration 8, loss = 0.60554409\n",
      "Iteration 9, loss = 0.59836274\n",
      "Iteration 10, loss = 0.59117183\n",
      "Iteration 11, loss = 0.58390457\n",
      "Iteration 12, loss = 0.57670583\n",
      "Iteration 13, loss = 0.56957894\n",
      "Iteration 14, loss = 0.56250160\n",
      "Iteration 15, loss = 0.55558654\n",
      "Iteration 16, loss = 0.54879596\n",
      "Iteration 17, loss = 0.54217109\n",
      "Iteration 18, loss = 0.53569147\n",
      "Iteration 19, loss = 0.52956840\n",
      "Iteration 20, loss = 0.52343381\n",
      "Iteration 21, loss = 0.51754678\n",
      "Iteration 22, loss = 0.51194344\n",
      "Iteration 23, loss = 0.50638112\n",
      "Iteration 24, loss = 0.50103692\n",
      "Iteration 25, loss = 0.49587043\n",
      "Iteration 26, loss = 0.49081086\n",
      "Iteration 27, loss = 0.48585187\n",
      "Iteration 28, loss = 0.48112225\n",
      "Iteration 29, loss = 0.47641699\n",
      "Iteration 30, loss = 0.47185886\n",
      "Iteration 31, loss = 0.46742003\n",
      "Iteration 32, loss = 0.46310237\n",
      "Iteration 33, loss = 0.45882689\n",
      "Iteration 34, loss = 0.45472207\n",
      "Iteration 35, loss = 0.45064846\n",
      "Iteration 36, loss = 0.44667504\n",
      "Iteration 37, loss = 0.44277686\n",
      "Iteration 38, loss = 0.43890583\n",
      "Iteration 39, loss = 0.43512727\n",
      "Iteration 40, loss = 0.43140200\n",
      "Iteration 41, loss = 0.42771818\n",
      "Iteration 42, loss = 0.42406301\n",
      "Iteration 43, loss = 0.42049469\n",
      "Iteration 44, loss = 0.41693351\n",
      "Iteration 45, loss = 0.41343402\n",
      "Iteration 46, loss = 0.40997739\n",
      "Iteration 47, loss = 0.40662078\n",
      "Iteration 48, loss = 0.40328222\n",
      "Iteration 49, loss = 0.40001788\n",
      "Iteration 50, loss = 0.39682372\n",
      "Iteration 51, loss = 0.39366383\n",
      "Iteration 52, loss = 0.39053164\n",
      "Iteration 53, loss = 0.38748096\n",
      "Iteration 54, loss = 0.38447265\n",
      "Iteration 55, loss = 0.38151290\n",
      "Iteration 56, loss = 0.37858723\n",
      "Iteration 57, loss = 0.37573972\n",
      "Iteration 58, loss = 0.37289953\n",
      "Iteration 59, loss = 0.37011763\n",
      "Iteration 60, loss = 0.36737603\n",
      "Iteration 61, loss = 0.36464501\n",
      "Iteration 62, loss = 0.36197833\n",
      "Iteration 63, loss = 0.35932072\n",
      "Iteration 64, loss = 0.35675397\n",
      "Iteration 65, loss = 0.35417336\n",
      "Iteration 66, loss = 0.35166316\n",
      "Iteration 67, loss = 0.34915855\n",
      "Iteration 68, loss = 0.34670412\n",
      "Iteration 69, loss = 0.34426221\n",
      "Iteration 70, loss = 0.34186393\n",
      "Iteration 71, loss = 0.33948546\n",
      "Iteration 72, loss = 0.33715644\n",
      "Iteration 73, loss = 0.33484283\n",
      "Iteration 74, loss = 0.33257551\n",
      "Iteration 75, loss = 0.33032580\n",
      "Iteration 76, loss = 0.32810869\n",
      "Iteration 77, loss = 0.32591044\n",
      "Iteration 78, loss = 0.32374686\n",
      "Iteration 79, loss = 0.32159925\n",
      "Iteration 80, loss = 0.31947702\n",
      "Iteration 81, loss = 0.31738683\n",
      "Iteration 82, loss = 0.31532069\n",
      "Iteration 83, loss = 0.31328182\n",
      "Iteration 84, loss = 0.31127393\n",
      "Iteration 85, loss = 0.30928203\n",
      "Iteration 86, loss = 0.30729066\n",
      "Iteration 87, loss = 0.30532044\n",
      "Iteration 88, loss = 0.30338443\n",
      "Iteration 89, loss = 0.30146386\n",
      "Iteration 90, loss = 0.29955498\n",
      "Iteration 91, loss = 0.29769413\n",
      "Iteration 92, loss = 0.29582176\n",
      "Iteration 93, loss = 0.29398183\n",
      "Iteration 94, loss = 0.29215785\n",
      "Iteration 95, loss = 0.29033559\n",
      "Iteration 96, loss = 0.28855236\n",
      "Iteration 97, loss = 0.28676639\n",
      "Iteration 98, loss = 0.28501387\n",
      "Iteration 99, loss = 0.28329475\n",
      "Iteration 100, loss = 0.28156451\n",
      "Iteration 101, loss = 0.27987836\n",
      "Iteration 102, loss = 0.27817715\n",
      "Iteration 103, loss = 0.27652773\n",
      "Iteration 104, loss = 0.27484713\n",
      "Iteration 105, loss = 0.27320390\n",
      "Iteration 106, loss = 0.27157825\n",
      "Iteration 107, loss = 0.26995959\n",
      "Iteration 108, loss = 0.26836503\n",
      "Iteration 109, loss = 0.26680151\n",
      "Iteration 110, loss = 0.26523451\n",
      "Iteration 111, loss = 0.26371810\n",
      "Iteration 112, loss = 0.26218161\n",
      "Iteration 113, loss = 0.26069296\n",
      "Iteration 114, loss = 0.25919375\n",
      "Iteration 115, loss = 0.25772319\n",
      "Iteration 116, loss = 0.25626941\n",
      "Iteration 117, loss = 0.25482946\n",
      "Iteration 118, loss = 0.25340472\n",
      "Iteration 119, loss = 0.25199583\n",
      "Iteration 120, loss = 0.25062095\n",
      "Iteration 121, loss = 0.24923697\n",
      "Iteration 122, loss = 0.24787610\n",
      "Iteration 123, loss = 0.24652433\n",
      "Iteration 124, loss = 0.24518129\n",
      "Iteration 125, loss = 0.24384459\n",
      "Iteration 126, loss = 0.24252797\n",
      "Iteration 127, loss = 0.24121109\n",
      "Iteration 128, loss = 0.23992905\n",
      "Iteration 129, loss = 0.23864947\n",
      "Iteration 130, loss = 0.23738967\n",
      "Iteration 131, loss = 0.23615841\n",
      "Iteration 132, loss = 0.23491748\n",
      "Iteration 133, loss = 0.23370078\n",
      "Iteration 134, loss = 0.23249492\n",
      "Iteration 135, loss = 0.23128902\n",
      "Iteration 136, loss = 0.23009523\n",
      "Iteration 137, loss = 0.22890726\n",
      "Iteration 138, loss = 0.22773375\n",
      "Iteration 139, loss = 0.22657655\n",
      "Iteration 140, loss = 0.22542142\n",
      "Iteration 141, loss = 0.22428397\n",
      "Iteration 142, loss = 0.22313824\n",
      "Iteration 143, loss = 0.22202818\n",
      "Iteration 144, loss = 0.22088620\n",
      "Iteration 145, loss = 0.21977233\n",
      "Iteration 146, loss = 0.21867369\n",
      "Iteration 147, loss = 0.21756979\n",
      "Iteration 148, loss = 0.21648433\n",
      "Iteration 149, loss = 0.21539863\n",
      "Iteration 150, loss = 0.21434242\n",
      "Iteration 151, loss = 0.21326871\n",
      "Iteration 152, loss = 0.21222428\n",
      "Iteration 153, loss = 0.21118498\n",
      "Iteration 154, loss = 0.21015168\n",
      "Iteration 155, loss = 0.20913165\n",
      "Iteration 156, loss = 0.20811557\n",
      "Iteration 157, loss = 0.20712503\n",
      "Iteration 158, loss = 0.20614160\n",
      "Iteration 159, loss = 0.20515572\n",
      "Iteration 160, loss = 0.20417969\n",
      "Iteration 161, loss = 0.20322892\n",
      "Iteration 162, loss = 0.20227124\n",
      "Iteration 163, loss = 0.20133591\n",
      "Iteration 164, loss = 0.20040259\n",
      "Iteration 165, loss = 0.19948414\n",
      "Iteration 166, loss = 0.19856923\n",
      "Iteration 167, loss = 0.19765504\n",
      "Iteration 168, loss = 0.19675521\n",
      "Iteration 169, loss = 0.19585366\n",
      "Iteration 170, loss = 0.19496139\n",
      "Iteration 171, loss = 0.19406983\n",
      "Iteration 172, loss = 0.19319056\n",
      "Iteration 173, loss = 0.19232401\n",
      "Iteration 174, loss = 0.19145824\n",
      "Iteration 175, loss = 0.19060397\n",
      "Iteration 176, loss = 0.18974898\n",
      "Iteration 177, loss = 0.18890224\n",
      "Iteration 178, loss = 0.18805204\n",
      "Iteration 179, loss = 0.18723249\n",
      "Iteration 180, loss = 0.18639857\n",
      "Iteration 181, loss = 0.18559106\n",
      "Iteration 182, loss = 0.18477874\n",
      "Iteration 183, loss = 0.18399144\n",
      "Iteration 184, loss = 0.18319630\n",
      "Iteration 185, loss = 0.18241266\n",
      "Iteration 186, loss = 0.18163667\n",
      "Iteration 187, loss = 0.18085367\n",
      "Iteration 188, loss = 0.18008400\n",
      "Iteration 189, loss = 0.17931603\n",
      "Iteration 190, loss = 0.17855116\n",
      "Iteration 191, loss = 0.17778962\n",
      "Iteration 192, loss = 0.17704320\n",
      "Iteration 193, loss = 0.17628571\n",
      "Iteration 194, loss = 0.17554656\n",
      "Iteration 195, loss = 0.17480818\n",
      "Iteration 196, loss = 0.17407795\n",
      "Iteration 197, loss = 0.17334946\n",
      "Iteration 198, loss = 0.17262071\n",
      "Iteration 199, loss = 0.17190606\n",
      "Iteration 200, loss = 0.17118599\n",
      "Iteration 201, loss = 0.17048311\n",
      "Iteration 202, loss = 0.16977293\n",
      "Iteration 203, loss = 0.16907395\n",
      "Iteration 204, loss = 0.16836832\n",
      "Iteration 205, loss = 0.16768023\n",
      "Iteration 206, loss = 0.16698340\n",
      "Iteration 207, loss = 0.16629452\n",
      "Iteration 208, loss = 0.16562516\n",
      "Iteration 209, loss = 0.16493800\n",
      "Iteration 210, loss = 0.16426951\n",
      "Iteration 211, loss = 0.16360257\n",
      "Iteration 212, loss = 0.16293839\n",
      "Iteration 213, loss = 0.16227652\n",
      "Iteration 214, loss = 0.16162489\n",
      "Iteration 215, loss = 0.16096603\n",
      "Iteration 216, loss = 0.16031059\n",
      "Iteration 217, loss = 0.15965671\n",
      "Iteration 218, loss = 0.15900599\n",
      "Iteration 219, loss = 0.15836875\n",
      "Iteration 220, loss = 0.15774022\n",
      "Iteration 221, loss = 0.15711058\n",
      "Iteration 222, loss = 0.15649389\n",
      "Iteration 223, loss = 0.15588308\n",
      "Iteration 224, loss = 0.15528470\n",
      "Iteration 225, loss = 0.15468431\n",
      "Iteration 226, loss = 0.15409296\n",
      "Iteration 227, loss = 0.15350581\n",
      "Iteration 228, loss = 0.15292418\n",
      "Iteration 229, loss = 0.15235585\n",
      "Iteration 230, loss = 0.15177660\n",
      "Iteration 231, loss = 0.15121236\n",
      "Iteration 232, loss = 0.15065053\n",
      "Iteration 233, loss = 0.15009269\n",
      "Iteration 234, loss = 0.14953783\n",
      "Iteration 235, loss = 0.14898933\n",
      "Iteration 236, loss = 0.14844325\n",
      "Iteration 237, loss = 0.14789911\n",
      "Iteration 238, loss = 0.14735020\n",
      "Iteration 239, loss = 0.14681037\n",
      "Iteration 240, loss = 0.14627319\n",
      "Iteration 241, loss = 0.14574432\n",
      "Iteration 242, loss = 0.14521280\n",
      "Iteration 243, loss = 0.14469681\n",
      "Iteration 244, loss = 0.14417537\n",
      "Iteration 245, loss = 0.14366711\n",
      "Iteration 246, loss = 0.14315560\n",
      "Iteration 247, loss = 0.14265143\n",
      "Iteration 248, loss = 0.14214893\n",
      "Iteration 249, loss = 0.14164638\n",
      "Iteration 250, loss = 0.14115157\n",
      "Iteration 251, loss = 0.14065675\n",
      "Iteration 252, loss = 0.14016440\n",
      "Iteration 253, loss = 0.13968563\n",
      "Iteration 254, loss = 0.13920390\n",
      "Iteration 255, loss = 0.13872578\n",
      "Iteration 256, loss = 0.13826116\n",
      "Iteration 257, loss = 0.13779463\n",
      "Iteration 258, loss = 0.13733435\n",
      "Iteration 259, loss = 0.13687351\n",
      "Iteration 260, loss = 0.13641255\n",
      "Iteration 261, loss = 0.13595979\n",
      "Iteration 262, loss = 0.13550164\n",
      "Iteration 263, loss = 0.13504913\n",
      "Iteration 264, loss = 0.13459692\n",
      "Iteration 265, loss = 0.13414173\n",
      "Iteration 266, loss = 0.13368430\n",
      "Iteration 267, loss = 0.13323452\n",
      "Iteration 268, loss = 0.13277756\n",
      "Iteration 269, loss = 0.13233859\n",
      "Iteration 270, loss = 0.13189405\n",
      "Iteration 271, loss = 0.13146144\n",
      "Iteration 272, loss = 0.13103211\n",
      "Iteration 273, loss = 0.13060473\n",
      "Iteration 274, loss = 0.13018242\n",
      "Iteration 275, loss = 0.12975624\n",
      "Iteration 276, loss = 0.12933306\n",
      "Iteration 277, loss = 0.12891251\n",
      "Iteration 278, loss = 0.12849461\n",
      "Iteration 279, loss = 0.12807329\n",
      "Iteration 280, loss = 0.12765462\n",
      "Iteration 281, loss = 0.12723827\n",
      "Iteration 282, loss = 0.12682400\n",
      "Iteration 283, loss = 0.12640525\n",
      "Iteration 284, loss = 0.12599921\n",
      "Iteration 285, loss = 0.12558911\n",
      "Iteration 286, loss = 0.12518350\n",
      "Iteration 287, loss = 0.12477519\n",
      "Iteration 288, loss = 0.12437239\n",
      "Iteration 289, loss = 0.12396553\n",
      "Iteration 290, loss = 0.12357278\n",
      "Iteration 291, loss = 0.12317067\n",
      "Iteration 292, loss = 0.12277366\n",
      "Iteration 293, loss = 0.12237461\n",
      "Iteration 294, loss = 0.12198782\n",
      "Iteration 295, loss = 0.12160126\n",
      "Iteration 296, loss = 0.12121866\n",
      "Iteration 297, loss = 0.12083544\n",
      "Iteration 298, loss = 0.12045567\n",
      "Iteration 299, loss = 0.12007642\n",
      "Iteration 300, loss = 0.11970407\n"
     ]
    },
    {
     "name": "stderr",
     "output_type": "stream",
     "text": [
      "/home/kennedy/anaconda3/lib/python3.8/site-packages/sklearn/neural_network/_multilayer_perceptron.py:692: ConvergenceWarning: Stochastic Optimizer: Maximum iterations (300) reached and the optimization hasn't converged yet.\n",
      "  warnings.warn(\n"
     ]
    },
    {
     "data": {
      "image/png": "[encoded data removed]",
      "text/plain": [
       "<Figure size 432x288 with 1 Axes>"
      ]
     },
     "metadata": {
      "needs_background": "light"
     },
     "output_type": "display_data"
    },
    {
     "data": {
      "text/plain": [
       "{'Score': 0.9871794871794872,\n",
       " 'Params': {'activation': 'relu',\n",
       "  'alpha': 0.0001,\n",
       "  'batch_size': 'auto',\n",
       "  'beta_1': 0.9,\n",
       "  'beta_2': 0.999,\n",
       "  'early_stopping': False,\n",
       "  'epsilon': 1e-08,\n",
       "  'hidden_layer_sizes': (200,),\n",
       "  'learning_rate': 'constant',\n",
       "  'learning_rate_init': 0.001,\n",
       "  'max_fun': 15000,\n",
       "  'max_iter': 300,\n",
       "  'momentum': 0.9,\n",
       "  'n_iter_no_change': 10,\n",
       "  'nesterovs_momentum': True,\n",
       "  'power_t': 0.5,\n",
       "  'random_state': 1,\n",
       "  'shuffle': True,\n",
       "  'solver': 'sgd',\n",
       "  'tol': 0.0001,\n",
       "  'validation_fraction': 0.1,\n",
       "  'verbose': True,\n",
       "  'warm_start': False}}"
      ]
     },
     "execution_count": 20,
     "metadata": {},
     "output_type": "execute_result"
    },
    {
     "data": {
      "image/png": "[encoded data removed]",
      "text/plain": [
       "<Figure size 432x288 with 2 Axes>"
      ]
     },
     "metadata": {
      "needs_background": "light"
     },
     "output_type": "display_data"
    }
   ],
   "source": [
    "model6 = MLPClassifier(random_state=1, max_iter=300,verbose=True, hidden_layer_sizes=(200,), solver='sgd').fit(X_train, y_train)\n",
    "test_model(model6)"
   ]
  }
 ],
 "metadata": {
  "kernelspec": {
   "display_name": "Python 3",
   "language": "python",
   "name": "python3"
  },
  "language_info": {
   "codemirror_mode": {
    "name": "ipython",
    "version": 3
   },
   "file_extension": ".py",
   "mimetype": "text/x-python",
   "name": "python",
   "nbconvert_exporter": "python",
   "pygments_lexer": "ipython3",
   "version": "3.8.8"
  }
 },
 "nbformat": 4,
 "nbformat_minor": 4
}
